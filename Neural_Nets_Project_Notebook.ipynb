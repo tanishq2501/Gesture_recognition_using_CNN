{
 "cells": [
  {
   "cell_type": "markdown",
   "metadata": {},
   "source": [
    "# Gesture Recognition\n",
    "In this group project, you are going to build a 3D Conv model that will be able to predict the 5 gestures correctly. Please import the following libraries to get started."
   ]
  },
  {
   "cell_type": "code",
   "execution_count": 1,
   "metadata": {},
   "outputs": [],
   "source": [
    "import numpy as np\n",
    "import os\n",
    "from imageio import imread\n",
    "from cv2 import resize as imresize\n",
    "import datetime\n",
    "import os\n",
    "import matplotlib.pyplot as plt\n",
    "import warnings\n",
    "warnings.filterwarnings('ignore')"
   ]
  },
  {
   "cell_type": "markdown",
   "metadata": {},
   "source": [
    "We set the random seed so that the results don't vary drastically."
   ]
  },
  {
   "cell_type": "code",
   "execution_count": 2,
   "metadata": {},
   "outputs": [],
   "source": [
    "np.random.seed(30)\n",
    "import random as rn\n",
    "rn.seed(30)\n",
    "from keras import backend as K\n",
    "import tensorflow as tf\n",
    "tf.random.set_seed(30)"
   ]
  },
  {
   "cell_type": "markdown",
   "metadata": {},
   "source": [
    "In this block, you read the folder names for training and validation. You also set the `batch_size` here. Note that you set the batch size in such a way that you are able to use the GPU in full capacity. You keep increasing the batch size until the machine throws an error."
   ]
  },
  {
   "cell_type": "code",
   "execution_count": 3,
   "metadata": {},
   "outputs": [],
   "source": [
    "train_doc = np.random.permutation(open('Project_data/train.csv').readlines())\n",
    "val_doc = np.random.permutation(open('Project_data/val.csv').readlines())\n",
    "batch_size = 25"
   ]
  },
  {
   "cell_type": "markdown",
   "metadata": {},
   "source": [
    "## Generator\n",
    "This is one of the most important part of the code. The overall structure of the generator has been given. In the generator, you are going to preprocess the images as you have images of 2 different dimensions as well as create a batch of video frames. You have to experiment with `img_idx`, `y`,`z` and normalization such that you get high accuracy."
   ]
  },
  {
   "cell_type": "code",
   "execution_count": 4,
   "metadata": {},
   "outputs": [],
   "source": [
    "def generator(no_of_frames,source_path, folder_list, batch_size,image_size):\n",
    "    print( 'Source path = ', source_path, '; batch size =', batch_size)\n",
    "    img_idx = np.round(np.linspace(0,29,no_of_frames)).astype(int)\n",
    "    while True:\n",
    "        t = np.random.permutation(folder_list)\n",
    "        num_batches = len(folder_list)//batch_size # calculate the number of batches\n",
    "        for batch in range(num_batches): # we iterate over the number of batches\n",
    "            batch_data = np.zeros((batch_size,len(img_idx),image_size[0],image_size[1],3)) # x is the number of images you use for each video, (y,z) is the final size of the input images and 3 is the number of channels RGB\n",
    "            batch_labels = np.zeros((batch_size,5)) # batch_labels is the one hot representation of the output\n",
    "            for folder in range(batch_size): # iterate over the batch_size\n",
    "                imgs = os.listdir(source_path+'/'+ t[folder + (batch*batch_size)].split(';')[0]) # read all the images in the folder\n",
    "                for idx,item in enumerate(img_idx): #  Iterate iver the frames/images of a folder to read them in\n",
    "                    image = imread(source_path+'/'+ t[folder + (batch*batch_size)].strip().split(';')[0]+'/'+imgs[item]).astype(np.float32)\n",
    "                    image = imresize(image,image_size)\n",
    "                    #crop the images and resize them. Note that the images are of 2 different shape \n",
    "                    #and the conv3D will throw error if the inputs in a batch have different shapes\n",
    "                    \n",
    "                    batch_data[folder,idx,:,:,0] = image[:,:,0]/255  #normalise and feed in the image\n",
    "                    batch_data[folder,idx,:,:,1] = image[:,:,1]/255  #normalise and feed in the image\n",
    "                    batch_data[folder,idx,:,:,2] = image[:,:,2]/255  #normalise and feed in the image\n",
    "                    \n",
    "                batch_labels[folder, int(t[folder + (batch*batch_size)].strip().split(';')[2])] = 1\n",
    "            yield batch_data, batch_labels #you yield the batch_data and the batch_labels, remember what does yield do\n",
    "\n",
    "        \n",
    "        # write the code for the remaining data points which are left after full batches\n",
    "        if(len(folder_list)%batch_size != 0):\n",
    "            for folder in range(len(folder_list)%batch_size): # iterate over the batch_size\n",
    "                imgs = os.listdir(source_path+'/'+ t[folder + (batch*batch_size)].split(';')[0]) # read all the images in the folder\n",
    "                for idx,item in enumerate(img_idx): #  Iterate iver the frames/images of a folder to read them in\n",
    "                    image = imread(source_path+'/'+ t[folder + (batch*batch_size)].strip().split(';')[0]+'/'+imgs[item]).astype(np.float32)\n",
    "                    image = imresize(image,image_size)\n",
    "                    #crop the images and resize them. Note that the images are of 2 different shape \n",
    "                    #and the conv3D will throw error if the inputs in a batch have different shapes\n",
    "                    \n",
    "                    batch_data[folder,idx,:,:,0] = image[:,:,0]/255  #normalise and feed in the image\n",
    "                    batch_data[folder,idx,:,:,1] = image[:,:,1]/255  #normalise and feed in the image\n",
    "                    batch_data[folder,idx,:,:,2] = image[:,:,2]/255  #normalise and feed in the image\n",
    "                    \n",
    "                batch_labels[folder, int(t[folder + (batch*batch_size)].strip().split(';')[2])] = 1\n",
    "            yield batch_data, batch_labels\n"
   ]
  },
  {
   "cell_type": "code",
   "execution_count": 5,
   "metadata": {},
   "outputs": [],
   "source": [
    "def plot_acc(history):\n",
    "    plt.figure(figsize=(10,3))\n",
    "    plt.subplot(121)\n",
    "    plt.plot(np.around(history.history['loss'],3))   \n",
    "    plt.plot(np.around(history.history['val_loss'],3))\n",
    "    plt.legend(['loss','val_loss'])\n",
    "    plt.subplot(122)\n",
    "    plt.plot(np.around(history.history['categorical_accuracy'],3))   \n",
    "    plt.plot(np.around(history.history['val_categorical_accuracy'],3))\n",
    "    plt.legend(['categorical_accuracy','val_categorical_accuracy'])\n",
    "    plt.tight_layout()"
   ]
  },
  {
   "cell_type": "markdown",
   "metadata": {},
   "source": [
    "Note here that a video is represented above in the generator as (number of images, height, width, number of channels). Take this into consideration while creating the model architecture."
   ]
  },
  {
   "cell_type": "code",
   "execution_count": 6,
   "metadata": {},
   "outputs": [
    {
     "name": "stdout",
     "output_type": "stream",
     "text": [
      "# training sequences = 663\n",
      "# validation sequences = 100\n",
      "# epochs = 15\n"
     ]
    }
   ],
   "source": [
    "curr_dt_time = datetime.datetime.now()\n",
    "train_path = 'Project_data/train'\n",
    "val_path = 'Project_data/val'\n",
    "num_train_sequences = len(train_doc)\n",
    "print('# training sequences =', num_train_sequences)\n",
    "num_val_sequences = len(val_doc)\n",
    "print('# validation sequences =', num_val_sequences)\n",
    "num_epochs = 15\n",
    "print ('# epochs =', num_epochs)"
   ]
  },
  {
   "cell_type": "markdown",
   "metadata": {},
   "source": [
    "## Model\n",
    "Here you make the model using different functionalities that Keras provides. Remember to use `Conv3D` and `MaxPooling3D` and not `Conv2D` and `Maxpooling2D` for a 3D convolution model. You would want to use `TimeDistributed` while building a Conv2D + RNN model. Also remember that the last layer is the softmax. Design the network in such a way that the model is able to give good accuracy on the least number of parameters so that it can fit in the memory of the webcam."
   ]
  },
  {
   "cell_type": "code",
   "execution_count": 7,
   "metadata": {},
   "outputs": [],
   "source": [
    "from keras.models import Sequential, Model\n",
    "from keras.layers import Dense, GRU, Flatten, TimeDistributed, Flatten, BatchNormalization, Activation, Dropout\n",
    "from keras.layers.convolutional import Conv3D, MaxPooling3D\n",
    "from keras.callbacks import ModelCheckpoint, ReduceLROnPlateau\n",
    "from keras import optimizers\n",
    "\n",
    "model = Sequential()\n",
    "\n",
    "model.add(Conv3D(16, kernel_size=(3,3,3), input_shape=(15, 120, 120, 3), padding='same'))\n",
    "model.add(BatchNormalization())\n",
    "model.add(Activation('relu'))\n",
    "model.add(MaxPooling3D(pool_size=(2,2,2)))\n",
    "\n",
    "model.add(Conv3D(32, kernel_size=(3,3,3), padding='same'))\n",
    "model.add(BatchNormalization())\n",
    "model.add(Activation('relu'))\n",
    "model.add(MaxPooling3D(pool_size=(2,2,2)))\n",
    "\n",
    "model.add(Conv3D(64, kernel_size=(3,3,3), padding='same'))\n",
    "model.add(BatchNormalization())\n",
    "model.add(Activation('relu'))\n",
    "model.add(MaxPooling3D(pool_size=(2,2,2)))\n",
    "\n",
    "model.add(Flatten())\n",
    "\n",
    "model.add(Dense(128, activation='relu'))\n",
    "model.add(Dropout(0.25))\n",
    "\n",
    "model.add(Dense(64, activation='relu'))\n",
    "model.add(Dropout(0.25))\n",
    "\n",
    "#softmax layer\n",
    "model.add(Dense(5, activation='softmax'))"
   ]
  },
  {
   "cell_type": "markdown",
   "metadata": {},
   "source": [
    "Now that you have written the model, the next step is to `compile` the model. When you print the `summary` of the model, you'll see the total number of parameters you have to train."
   ]
  },
  {
   "cell_type": "code",
   "execution_count": 8,
   "metadata": {
    "scrolled": true
   },
   "outputs": [
    {
     "name": "stdout",
     "output_type": "stream",
     "text": [
      "Model: \"sequential\"\n",
      "_________________________________________________________________\n",
      " Layer (type)                Output Shape              Param #   \n",
      "=================================================================\n",
      " conv3d (Conv3D)             (None, 15, 120, 120, 16)  1312      \n",
      "                                                                 \n",
      " batch_normalization (BatchN  (None, 15, 120, 120, 16)  64       \n",
      " ormalization)                                                   \n",
      "                                                                 \n",
      " activation (Activation)     (None, 15, 120, 120, 16)  0         \n",
      "                                                                 \n",
      " max_pooling3d (MaxPooling3D  (None, 7, 60, 60, 16)    0         \n",
      " )                                                               \n",
      "                                                                 \n",
      " conv3d_1 (Conv3D)           (None, 7, 60, 60, 32)     13856     \n",
      "                                                                 \n",
      " batch_normalization_1 (Batc  (None, 7, 60, 60, 32)    128       \n",
      " hNormalization)                                                 \n",
      "                                                                 \n",
      " activation_1 (Activation)   (None, 7, 60, 60, 32)     0         \n",
      "                                                                 \n",
      " max_pooling3d_1 (MaxPooling  (None, 3, 30, 30, 32)    0         \n",
      " 3D)                                                             \n",
      "                                                                 \n",
      " conv3d_2 (Conv3D)           (None, 3, 30, 30, 64)     55360     \n",
      "                                                                 \n",
      " batch_normalization_2 (Batc  (None, 3, 30, 30, 64)    256       \n",
      " hNormalization)                                                 \n",
      "                                                                 \n",
      " activation_2 (Activation)   (None, 3, 30, 30, 64)     0         \n",
      "                                                                 \n",
      " max_pooling3d_2 (MaxPooling  (None, 1, 15, 15, 64)    0         \n",
      " 3D)                                                             \n",
      "                                                                 \n",
      " flatten (Flatten)           (None, 14400)             0         \n",
      "                                                                 \n",
      " dense (Dense)               (None, 128)               1843328   \n",
      "                                                                 \n",
      " dropout (Dropout)           (None, 128)               0         \n",
      "                                                                 \n",
      " dense_1 (Dense)             (None, 64)                8256      \n",
      "                                                                 \n",
      " dropout_1 (Dropout)         (None, 64)                0         \n",
      "                                                                 \n",
      " dense_2 (Dense)             (None, 5)                 325       \n",
      "                                                                 \n",
      "=================================================================\n",
      "Total params: 1,922,885\n",
      "Trainable params: 1,922,661\n",
      "Non-trainable params: 224\n",
      "_________________________________________________________________\n",
      "None\n"
     ]
    }
   ],
   "source": [
    "optimiser = optimizers.Adam()\n",
    "model.compile(optimizer=optimiser, loss='categorical_crossentropy', metrics=['categorical_accuracy'])\n",
    "print (model.summary())"
   ]
  },
  {
   "cell_type": "markdown",
   "metadata": {},
   "source": [
    "Let us create the `train_generator` and the `val_generator` which will be used in `.fit_generator`."
   ]
  },
  {
   "cell_type": "code",
   "execution_count": 9,
   "metadata": {},
   "outputs": [],
   "source": [
    "train_generator = generator(15,train_path, train_doc, batch_size,(120,120))\n",
    "val_generator = generator(15,val_path, val_doc, batch_size,(120,120))"
   ]
  },
  {
   "cell_type": "code",
   "execution_count": 10,
   "metadata": {},
   "outputs": [
    {
     "name": "stdout",
     "output_type": "stream",
     "text": [
      "WARNING:tensorflow:`period` argument is deprecated. Please use `save_freq` to specify the frequency in number of batches seen.\n"
     ]
    }
   ],
   "source": [
    "model_name = 'model_init' + '_' + str(curr_dt_time).replace(' ','').replace(':','_') + '/'\n",
    "    \n",
    "if not os.path.exists(model_name):\n",
    "    os.mkdir(model_name)\n",
    "        \n",
    "filepath = model_name + 'model-{epoch:05d}-{loss:.5f}-{categorical_accuracy:.5f}-{val_loss:.5f}-{val_categorical_accuracy:.5f}.h5'\n",
    "\n",
    "checkpoint = ModelCheckpoint(filepath, monitor='val_loss', verbose=1, save_best_only=False, save_weights_only=False, mode='auto', period=1)\n",
    "\n",
    "LR = ReduceLROnPlateau(monitor='val_loss', factor=0.5, patience=2, cooldown=1, verbose=1) # write the REducelronplateau code here\n",
    "callbacks_list = [checkpoint, LR]"
   ]
  },
  {
   "cell_type": "markdown",
   "metadata": {},
   "source": [
    "The `steps_per_epoch` and `validation_steps` are used by `fit_generator` to decide the number of next() calls it need to make."
   ]
  },
  {
   "cell_type": "code",
   "execution_count": 11,
   "metadata": {},
   "outputs": [],
   "source": [
    "batch_size = 25\n",
    "if (num_train_sequences%batch_size) == 0:\n",
    "    steps_per_epoch = int(num_train_sequences/batch_size)\n",
    "else:\n",
    "    steps_per_epoch = (num_train_sequences//batch_size) + 1\n",
    "\n",
    "if (num_val_sequences%batch_size) == 0:\n",
    "    validation_steps = int(num_val_sequences/batch_size)\n",
    "else:\n",
    "    validation_steps = (num_val_sequences//batch_size) + 1"
   ]
  },
  {
   "cell_type": "markdown",
   "metadata": {},
   "source": [
    "Let us now fit the model. This will start training the model and with the help of the checkpoints, you'll be able to save the model at the end of each epoch."
   ]
  },
  {
   "cell_type": "code",
   "execution_count": 12,
   "metadata": {
    "scrolled": true
   },
   "outputs": [
    {
     "name": "stdout",
     "output_type": "stream",
     "text": [
      "Source path =  Project_data/train ; batch size = 25\n",
      "Epoch 1/15\n",
      "27/27 [==============================] - ETA: 0s - loss: 3.4063 - categorical_accuracy: 0.2074Source path =  Project_data/val ; batch size = 25\n",
      "\n",
      "Epoch 1: saving model to model_init_2024-05-0704_06_02.598057\\model-00001-3.40628-0.20741-1.67859-0.18000.h5\n",
      "27/27 [==============================] - 165s 6s/step - loss: 3.4063 - categorical_accuracy: 0.2074 - val_loss: 1.6786 - val_categorical_accuracy: 0.1800 - lr: 0.0010\n",
      "Epoch 2/15\n",
      "27/27 [==============================] - ETA: 0s - loss: 1.4919 - categorical_accuracy: 0.3274\n",
      "Epoch 2: saving model to model_init_2024-05-0704_06_02.598057\\model-00002-1.49194-0.32741-2.15842-0.21000.h5\n",
      "27/27 [==============================] - 153s 6s/step - loss: 1.4919 - categorical_accuracy: 0.3274 - val_loss: 2.1584 - val_categorical_accuracy: 0.2100 - lr: 0.0010\n",
      "Epoch 3/15\n",
      "27/27 [==============================] - ETA: 0s - loss: 1.2982 - categorical_accuracy: 0.4400\n",
      "Epoch 3: saving model to model_init_2024-05-0704_06_02.598057\\model-00003-1.29820-0.44000-1.55686-0.23000.h5\n",
      "27/27 [==============================] - 155s 6s/step - loss: 1.2982 - categorical_accuracy: 0.4400 - val_loss: 1.5569 - val_categorical_accuracy: 0.2300 - lr: 0.0010\n",
      "Epoch 4/15\n",
      "27/27 [==============================] - ETA: 0s - loss: 1.1360 - categorical_accuracy: 0.5304\n",
      "Epoch 4: saving model to model_init_2024-05-0704_06_02.598057\\model-00004-1.13597-0.53037-1.78390-0.22000.h5\n",
      "27/27 [==============================] - 149s 6s/step - loss: 1.1360 - categorical_accuracy: 0.5304 - val_loss: 1.7839 - val_categorical_accuracy: 0.2200 - lr: 0.0010\n",
      "Epoch 5/15\n",
      "27/27 [==============================] - ETA: 0s - loss: 0.8945 - categorical_accuracy: 0.6430\n",
      "Epoch 5: saving model to model_init_2024-05-0704_06_02.598057\\model-00005-0.89450-0.64296-2.15794-0.22000.h5\n",
      "\n",
      "Epoch 5: ReduceLROnPlateau reducing learning rate to 0.0005000000237487257.\n",
      "27/27 [==============================] - 157s 6s/step - loss: 0.8945 - categorical_accuracy: 0.6430 - val_loss: 2.1579 - val_categorical_accuracy: 0.2200 - lr: 0.0010\n",
      "Epoch 6/15\n",
      "27/27 [==============================] - ETA: 0s - loss: 0.7242 - categorical_accuracy: 0.7081\n",
      "Epoch 6: saving model to model_init_2024-05-0704_06_02.598057\\model-00006-0.72417-0.70815-3.22168-0.20000.h5\n",
      "27/27 [==============================] - 152s 6s/step - loss: 0.7242 - categorical_accuracy: 0.7081 - val_loss: 3.2217 - val_categorical_accuracy: 0.2000 - lr: 5.0000e-04\n",
      "Epoch 7/15\n",
      "27/27 [==============================] - ETA: 0s - loss: 0.5916 - categorical_accuracy: 0.7733\n",
      "Epoch 7: saving model to model_init_2024-05-0704_06_02.598057\\model-00007-0.59160-0.77333-2.79616-0.28000.h5\n",
      "\n",
      "Epoch 7: ReduceLROnPlateau reducing learning rate to 0.0002500000118743628.\n",
      "27/27 [==============================] - 154s 6s/step - loss: 0.5916 - categorical_accuracy: 0.7733 - val_loss: 2.7962 - val_categorical_accuracy: 0.2800 - lr: 5.0000e-04\n",
      "Epoch 8/15\n",
      "27/27 [==============================] - ETA: 0s - loss: 0.5186 - categorical_accuracy: 0.8178\n",
      "Epoch 8: saving model to model_init_2024-05-0704_06_02.598057\\model-00008-0.51858-0.81778-3.13053-0.22000.h5\n",
      "27/27 [==============================] - 158s 6s/step - loss: 0.5186 - categorical_accuracy: 0.8178 - val_loss: 3.1305 - val_categorical_accuracy: 0.2200 - lr: 2.5000e-04\n",
      "Epoch 9/15\n",
      "27/27 [==============================] - ETA: 0s - loss: 0.4907 - categorical_accuracy: 0.8207\n",
      "Epoch 9: saving model to model_init_2024-05-0704_06_02.598057\\model-00009-0.49074-0.82074-3.13543-0.27000.h5\n",
      "\n",
      "Epoch 9: ReduceLROnPlateau reducing learning rate to 0.0001250000059371814.\n",
      "27/27 [==============================] - 136s 5s/step - loss: 0.4907 - categorical_accuracy: 0.8207 - val_loss: 3.1354 - val_categorical_accuracy: 0.2700 - lr: 2.5000e-04\n",
      "Epoch 10/15\n",
      "27/27 [==============================] - ETA: 0s - loss: 0.4056 - categorical_accuracy: 0.8504\n",
      "Epoch 10: saving model to model_init_2024-05-0704_06_02.598057\\model-00010-0.40562-0.85037-2.68675-0.31000.h5\n",
      "27/27 [==============================] - 152s 6s/step - loss: 0.4056 - categorical_accuracy: 0.8504 - val_loss: 2.6867 - val_categorical_accuracy: 0.3100 - lr: 1.2500e-04\n",
      "Epoch 11/15\n",
      "27/27 [==============================] - ETA: 0s - loss: 0.3870 - categorical_accuracy: 0.8741\n",
      "Epoch 11: saving model to model_init_2024-05-0704_06_02.598057\\model-00011-0.38703-0.87407-2.26480-0.34000.h5\n",
      "\n",
      "Epoch 11: ReduceLROnPlateau reducing learning rate to 6.25000029685907e-05.\n",
      "27/27 [==============================] - 157s 6s/step - loss: 0.3870 - categorical_accuracy: 0.8741 - val_loss: 2.2648 - val_categorical_accuracy: 0.3400 - lr: 1.2500e-04\n",
      "Epoch 12/15\n",
      "27/27 [==============================] - ETA: 0s - loss: 0.3497 - categorical_accuracy: 0.8711\n",
      "Epoch 12: saving model to model_init_2024-05-0704_06_02.598057\\model-00012-0.34968-0.87111-1.92572-0.44000.h5\n",
      "27/27 [==============================] - 158s 6s/step - loss: 0.3497 - categorical_accuracy: 0.8711 - val_loss: 1.9257 - val_categorical_accuracy: 0.4400 - lr: 6.2500e-05\n",
      "Epoch 13/15\n",
      "27/27 [==============================] - ETA: 0s - loss: 0.3587 - categorical_accuracy: 0.8800\n",
      "Epoch 13: saving model to model_init_2024-05-0704_06_02.598057\\model-00013-0.35868-0.88000-1.59154-0.48000.h5\n",
      "\n",
      "Epoch 13: ReduceLROnPlateau reducing learning rate to 3.125000148429535e-05.\n",
      "27/27 [==============================] - 160s 6s/step - loss: 0.3587 - categorical_accuracy: 0.8800 - val_loss: 1.5915 - val_categorical_accuracy: 0.4800 - lr: 6.2500e-05\n",
      "Epoch 14/15\n",
      "27/27 [==============================] - ETA: 0s - loss: 0.3660 - categorical_accuracy: 0.8859\n",
      "Epoch 14: saving model to model_init_2024-05-0704_06_02.598057\\model-00014-0.36604-0.88593-1.19500-0.56000.h5\n",
      "27/27 [==============================] - 171s 6s/step - loss: 0.3660 - categorical_accuracy: 0.8859 - val_loss: 1.1950 - val_categorical_accuracy: 0.5600 - lr: 3.1250e-05\n",
      "Epoch 15/15\n",
      "27/27 [==============================] - ETA: 0s - loss: 0.3273 - categorical_accuracy: 0.8874\n",
      "Epoch 15: saving model to model_init_2024-05-0704_06_02.598057\\model-00015-0.32728-0.88741-1.11600-0.62000.h5\n",
      "27/27 [==============================] - 150s 6s/step - loss: 0.3273 - categorical_accuracy: 0.8874 - val_loss: 1.1160 - val_categorical_accuracy: 0.6200 - lr: 3.1250e-05\n"
     ]
    }
   ],
   "source": [
    "history = model.fit_generator(train_generator, steps_per_epoch=steps_per_epoch, epochs=15, verbose=1, \n",
    "                    callbacks=callbacks_list, validation_data=val_generator,\n",
    "                    validation_steps=validation_steps, class_weight=None, workers=1, initial_epoch=0)"
   ]
  },
  {
   "cell_type": "code",
   "execution_count": 40,
   "metadata": {},
   "outputs": [
    {
     "data": {
      "image/png": "[encoded data removed]",
      "text/plain": [
       "<Figure size 1000x300 with 2 Axes>"
      ]
     },
     "metadata": {},
     "output_type": "display_data"
    }
   ],
   "source": [
    "plot_acc(history)"
   ]
  },
  {
   "cell_type": "markdown",
   "metadata": {},
   "source": [
    "**Adding more layers to tackle overfitting**\n",
    "### Model1"
   ]
  },
  {
   "cell_type": "code",
   "execution_count": 13,
   "metadata": {},
   "outputs": [],
   "source": [
    "model1 = Sequential()\n",
    "\n",
    "model1.add(Conv3D(16, kernel_size=(3,3,3), input_shape=(15, 120, 120, 3), padding='same'))\n",
    "model1.add(BatchNormalization())\n",
    "model1.add(Activation('relu'))\n",
    "model1.add(MaxPooling3D(pool_size=(2,2,2)))\n",
    "\n",
    "model1.add(Conv3D(32, kernel_size=(3,3,3), padding='same'))\n",
    "model1.add(BatchNormalization())\n",
    "model1.add(Activation('relu'))\n",
    "model1.add(MaxPooling3D(pool_size=(2,2,2)))\n",
    "\n",
    "model1.add(Conv3D(64, kernel_size=(3,3,3), padding='same'))\n",
    "model1.add(BatchNormalization())\n",
    "model1.add(Activation('relu'))\n",
    "model1.add(MaxPooling3D(pool_size=(2,2,2)))\n",
    "\n",
    "model1.add(Conv3D(128, kernel_size=(3,3,3), padding='same'))\n",
    "model1.add(BatchNormalization())\n",
    "model1.add(Activation('relu'))\n",
    "\n",
    "model1.add(Flatten())\n",
    "\n",
    "model1.add(Dense(128, activation='relu'))\n",
    "model1.add(Dropout(0.25))\n",
    "\n",
    "model1.add(Dense(64, activation='relu'))\n",
    "model1.add(Dropout(0.25))\n",
    "\n",
    "#softmax layer\n",
    "model1.add(Dense(5, activation='softmax'))"
   ]
  },
  {
   "cell_type": "code",
   "execution_count": 14,
   "metadata": {
    "scrolled": true
   },
   "outputs": [
    {
     "name": "stdout",
     "output_type": "stream",
     "text": [
      "Model: \"sequential\"\n",
      "_________________________________________________________________\n",
      " Layer (type)                Output Shape              Param #   \n",
      "=================================================================\n",
      " conv3d (Conv3D)             (None, 15, 120, 120, 16)  1312      \n",
      "                                                                 \n",
      " batch_normalization (BatchN  (None, 15, 120, 120, 16)  64       \n",
      " ormalization)                                                   \n",
      "                                                                 \n",
      " activation (Activation)     (None, 15, 120, 120, 16)  0         \n",
      "                                                                 \n",
      " max_pooling3d (MaxPooling3D  (None, 7, 60, 60, 16)    0         \n",
      " )                                                               \n",
      "                                                                 \n",
      " conv3d_1 (Conv3D)           (None, 7, 60, 60, 32)     13856     \n",
      "                                                                 \n",
      " batch_normalization_1 (Batc  (None, 7, 60, 60, 32)    128       \n",
      " hNormalization)                                                 \n",
      "                                                                 \n",
      " activation_1 (Activation)   (None, 7, 60, 60, 32)     0         \n",
      "                                                                 \n",
      " max_pooling3d_1 (MaxPooling  (None, 3, 30, 30, 32)    0         \n",
      " 3D)                                                             \n",
      "                                                                 \n",
      " conv3d_2 (Conv3D)           (None, 3, 30, 30, 64)     55360     \n",
      "                                                                 \n",
      " batch_normalization_2 (Batc  (None, 3, 30, 30, 64)    256       \n",
      " hNormalization)                                                 \n",
      "                                                                 \n",
      " activation_2 (Activation)   (None, 3, 30, 30, 64)     0         \n",
      "                                                                 \n",
      " max_pooling3d_2 (MaxPooling  (None, 1, 15, 15, 64)    0         \n",
      " 3D)                                                             \n",
      "                                                                 \n",
      " flatten (Flatten)           (None, 14400)             0         \n",
      "                                                                 \n",
      " dense (Dense)               (None, 128)               1843328   \n",
      "                                                                 \n",
      " dropout (Dropout)           (None, 128)               0         \n",
      "                                                                 \n",
      " dense_1 (Dense)             (None, 64)                8256      \n",
      "                                                                 \n",
      " dropout_1 (Dropout)         (None, 64)                0         \n",
      "                                                                 \n",
      " dense_2 (Dense)             (None, 5)                 325       \n",
      "                                                                 \n",
      "=================================================================\n",
      "Total params: 1,922,885\n",
      "Trainable params: 1,922,661\n",
      "Non-trainable params: 224\n",
      "_________________________________________________________________\n",
      "None\n"
     ]
    }
   ],
   "source": [
    "optimiser = optimizers.Adam()\n",
    "model1.compile(optimizer=optimiser, loss='categorical_crossentropy', metrics=['categorical_accuracy'])\n",
    "print (model1.summary())"
   ]
  },
  {
   "cell_type": "markdown",
   "metadata": {},
   "source": [
    "Let us create the `train_generator` and the `val_generator` which will be used in `.fit_generator`."
   ]
  },
  {
   "cell_type": "code",
   "execution_count": 15,
   "metadata": {},
   "outputs": [],
   "source": [
    "train_generator = generator(15,train_path, train_doc, batch_size,(120,120))\n",
    "val_generator = generator(15,val_path, val_doc, batch_size,(120,120))"
   ]
  },
  {
   "cell_type": "code",
   "execution_count": 16,
   "metadata": {},
   "outputs": [
    {
     "name": "stdout",
     "output_type": "stream",
     "text": [
      "WARNING:tensorflow:`period` argument is deprecated. Please use `save_freq` to specify the frequency in number of batches seen.\n"
     ]
    }
   ],
   "source": [
    "model_name = 'model_1_init' + '_' + str(curr_dt_time).replace(' ','').replace(':','_') + '/'\n",
    "    \n",
    "if not os.path.exists(model_name):\n",
    "    os.mkdir(model_name)\n",
    "        \n",
    "filepath = model_name + 'model-{epoch:05d}-{loss:.5f}-{categorical_accuracy:.5f}-{val_loss:.5f}-{val_categorical_accuracy:.5f}.h5'\n",
    "\n",
    "checkpoint = ModelCheckpoint(filepath, monitor='val_loss', verbose=1, save_best_only=False, save_weights_only=False, mode='auto', period=1)\n",
    "\n",
    "LR = ReduceLROnPlateau(monitor='val_loss', factor=0.5, patience=2, cooldown=1, verbose=1) # write the REducelronplateau code here\n",
    "callbacks_list = [checkpoint, LR]"
   ]
  },
  {
   "cell_type": "markdown",
   "metadata": {},
   "source": [
    "The `steps_per_epoch` and `validation_steps` are used by `fit_generator` to decide the number of next() calls it need to make."
   ]
  },
  {
   "cell_type": "code",
   "execution_count": 17,
   "metadata": {},
   "outputs": [],
   "source": [
    "batch_size = 25\n",
    "if (num_train_sequences%batch_size) == 0:\n",
    "    steps_per_epoch = int(num_train_sequences/batch_size)\n",
    "else:\n",
    "    steps_per_epoch = (num_train_sequences//batch_size) + 1\n",
    "\n",
    "if (num_val_sequences%batch_size) == 0:\n",
    "    validation_steps = int(num_val_sequences/batch_size)\n",
    "else:\n",
    "    validation_steps = (num_val_sequences//batch_size) + 1"
   ]
  },
  {
   "cell_type": "code",
   "execution_count": 18,
   "metadata": {
    "scrolled": true
   },
   "outputs": [
    {
     "name": "stdout",
     "output_type": "stream",
     "text": [
      "Source path =  Project_data/train ; batch size = 25\n",
      "Epoch 1/15\n",
      "27/27 [==============================] - ETA: 0s - loss: 3.3414 - categorical_accuracy: 0.3259Source path =  Project_data/val ; batch size = 25\n",
      "\n",
      "Epoch 1: saving model to model_1_init_2024-05-0704_06_02.598057\\model-00001-3.34143-0.32593-1.57853-0.32000.h5\n",
      "27/27 [==============================] - 142s 5s/step - loss: 3.3414 - categorical_accuracy: 0.3259 - val_loss: 1.5785 - val_categorical_accuracy: 0.3200 - lr: 0.0010\n",
      "Epoch 2/15\n",
      "27/27 [==============================] - ETA: 0s - loss: 1.5246 - categorical_accuracy: 0.3719\n",
      "Epoch 2: saving model to model_1_init_2024-05-0704_06_02.598057\\model-00002-1.52455-0.37185-1.57420-0.27000.h5\n",
      "27/27 [==============================] - 139s 5s/step - loss: 1.5246 - categorical_accuracy: 0.3719 - val_loss: 1.5742 - val_categorical_accuracy: 0.2700 - lr: 0.0010\n",
      "Epoch 3/15\n",
      "27/27 [==============================] - ETA: 0s - loss: 1.4592 - categorical_accuracy: 0.4104\n",
      "Epoch 3: saving model to model_1_init_2024-05-0704_06_02.598057\\model-00003-1.45921-0.41037-1.80301-0.22000.h5\n",
      "27/27 [==============================] - 142s 5s/step - loss: 1.4592 - categorical_accuracy: 0.4104 - val_loss: 1.8030 - val_categorical_accuracy: 0.2200 - lr: 0.0010\n",
      "Epoch 4/15\n",
      "27/27 [==============================] - ETA: 0s - loss: 1.4279 - categorical_accuracy: 0.4296\n",
      "Epoch 4: saving model to model_1_init_2024-05-0704_06_02.598057\\model-00004-1.42789-0.42963-1.79118-0.20000.h5\n",
      "\n",
      "Epoch 4: ReduceLROnPlateau reducing learning rate to 0.0005000000237487257.\n",
      "27/27 [==============================] - 142s 5s/step - loss: 1.4279 - categorical_accuracy: 0.4296 - val_loss: 1.7912 - val_categorical_accuracy: 0.2000 - lr: 0.0010\n",
      "Epoch 5/15\n",
      "27/27 [==============================] - ETA: 0s - loss: 1.2287 - categorical_accuracy: 0.4919\n",
      "Epoch 5: saving model to model_1_init_2024-05-0704_06_02.598057\\model-00005-1.22871-0.49185-2.43177-0.28000.h5\n",
      "27/27 [==============================] - 141s 5s/step - loss: 1.2287 - categorical_accuracy: 0.4919 - val_loss: 2.4318 - val_categorical_accuracy: 0.2800 - lr: 5.0000e-04\n",
      "Epoch 6/15\n",
      "27/27 [==============================] - ETA: 0s - loss: 1.0997 - categorical_accuracy: 0.5467\n",
      "Epoch 6: saving model to model_1_init_2024-05-0704_06_02.598057\\model-00006-1.09969-0.54667-2.96393-0.23000.h5\n",
      "\n",
      "Epoch 6: ReduceLROnPlateau reducing learning rate to 0.0002500000118743628.\n",
      "27/27 [==============================] - 140s 5s/step - loss: 1.0997 - categorical_accuracy: 0.5467 - val_loss: 2.9639 - val_categorical_accuracy: 0.2300 - lr: 5.0000e-04\n",
      "Epoch 7/15\n",
      "27/27 [==============================] - ETA: 0s - loss: 1.0521 - categorical_accuracy: 0.5867\n",
      "Epoch 7: saving model to model_1_init_2024-05-0704_06_02.598057\\model-00007-1.05205-0.58667-3.51494-0.16000.h5\n",
      "27/27 [==============================] - 143s 5s/step - loss: 1.0521 - categorical_accuracy: 0.5867 - val_loss: 3.5149 - val_categorical_accuracy: 0.1600 - lr: 2.5000e-04\n",
      "Epoch 8/15\n",
      "27/27 [==============================] - ETA: 0s - loss: 0.8923 - categorical_accuracy: 0.6489\n",
      "Epoch 8: saving model to model_1_init_2024-05-0704_06_02.598057\\model-00008-0.89235-0.64889-4.05579-0.20000.h5\n",
      "\n",
      "Epoch 8: ReduceLROnPlateau reducing learning rate to 0.0001250000059371814.\n",
      "27/27 [==============================] - 139s 5s/step - loss: 0.8923 - categorical_accuracy: 0.6489 - val_loss: 4.0558 - val_categorical_accuracy: 0.2000 - lr: 2.5000e-04\n",
      "Epoch 9/15\n",
      "27/27 [==============================] - ETA: 0s - loss: 0.8371 - categorical_accuracy: 0.6667\n",
      "Epoch 9: saving model to model_1_init_2024-05-0704_06_02.598057\\model-00009-0.83705-0.66667-4.95934-0.26000.h5\n",
      "27/27 [==============================] - 140s 5s/step - loss: 0.8371 - categorical_accuracy: 0.6667 - val_loss: 4.9593 - val_categorical_accuracy: 0.2600 - lr: 1.2500e-04\n",
      "Epoch 10/15\n",
      "27/27 [==============================] - ETA: 0s - loss: 0.7643 - categorical_accuracy: 0.6963\n",
      "Epoch 10: saving model to model_1_init_2024-05-0704_06_02.598057\\model-00010-0.76431-0.69630-4.22949-0.26000.h5\n",
      "\n",
      "Epoch 10: ReduceLROnPlateau reducing learning rate to 6.25000029685907e-05.\n",
      "27/27 [==============================] - 142s 5s/step - loss: 0.7643 - categorical_accuracy: 0.6963 - val_loss: 4.2295 - val_categorical_accuracy: 0.2600 - lr: 1.2500e-04\n",
      "Epoch 11/15\n",
      "27/27 [==============================] - ETA: 0s - loss: 0.6516 - categorical_accuracy: 0.7630\n",
      "Epoch 11: saving model to model_1_init_2024-05-0704_06_02.598057\\model-00011-0.65159-0.76296-4.38487-0.23000.h5\n",
      "27/27 [==============================] - 137s 5s/step - loss: 0.6516 - categorical_accuracy: 0.7630 - val_loss: 4.3849 - val_categorical_accuracy: 0.2300 - lr: 6.2500e-05\n",
      "Epoch 12/15\n",
      "27/27 [==============================] - ETA: 0s - loss: 0.6538 - categorical_accuracy: 0.7511\n",
      "Epoch 12: saving model to model_1_init_2024-05-0704_06_02.598057\\model-00012-0.65382-0.75111-4.00536-0.23000.h5\n",
      "\n",
      "Epoch 12: ReduceLROnPlateau reducing learning rate to 3.125000148429535e-05.\n",
      "27/27 [==============================] - 145s 5s/step - loss: 0.6538 - categorical_accuracy: 0.7511 - val_loss: 4.0054 - val_categorical_accuracy: 0.2300 - lr: 6.2500e-05\n",
      "Epoch 13/15\n",
      "27/27 [==============================] - ETA: 0s - loss: 0.6629 - categorical_accuracy: 0.7348\n",
      "Epoch 13: saving model to model_1_init_2024-05-0704_06_02.598057\\model-00013-0.66291-0.73481-3.48339-0.27000.h5\n",
      "27/27 [==============================] - 141s 5s/step - loss: 0.6629 - categorical_accuracy: 0.7348 - val_loss: 3.4834 - val_categorical_accuracy: 0.2700 - lr: 3.1250e-05\n",
      "Epoch 14/15\n",
      "27/27 [==============================] - ETA: 0s - loss: 0.6176 - categorical_accuracy: 0.7600\n",
      "Epoch 14: saving model to model_1_init_2024-05-0704_06_02.598057\\model-00014-0.61762-0.76000-3.04162-0.28000.h5\n",
      "\n",
      "Epoch 14: ReduceLROnPlateau reducing learning rate to 1.5625000742147677e-05.\n",
      "27/27 [==============================] - 140s 5s/step - loss: 0.6176 - categorical_accuracy: 0.7600 - val_loss: 3.0416 - val_categorical_accuracy: 0.2800 - lr: 3.1250e-05\n",
      "Epoch 15/15\n",
      "27/27 [==============================] - ETA: 0s - loss: 0.6590 - categorical_accuracy: 0.7556\n",
      "Epoch 15: saving model to model_1_init_2024-05-0704_06_02.598057\\model-00015-0.65899-0.75556-2.93818-0.27000.h5\n",
      "27/27 [==============================] - 144s 5s/step - loss: 0.6590 - categorical_accuracy: 0.7556 - val_loss: 2.9382 - val_categorical_accuracy: 0.2700 - lr: 1.5625e-05\n"
     ]
    }
   ],
   "source": [
    "history1 = model1.fit_generator(train_generator, steps_per_epoch=steps_per_epoch, epochs=15, verbose=1, \n",
    "                    callbacks=callbacks_list, validation_data=val_generator, \n",
    "                    validation_steps=validation_steps, class_weight=None, workers=1, initial_epoch=0)"
   ]
  },
  {
   "cell_type": "code",
   "execution_count": 41,
   "metadata": {},
   "outputs": [
    {
     "data": {
      "image/png": "[encoded data removed]",
      "text/plain": [
       "<Figure size 1000x300 with 2 Axes>"
      ]
     },
     "metadata": {},
     "output_type": "display_data"
    }
   ],
   "source": [
    "plot_acc(history1)"
   ]
  },
  {
   "cell_type": "markdown",
   "metadata": {},
   "source": [
    "**Model has extremely overfitted, Increasing epochs to 25 and adding Batch Normalization after Dense layers to reduce overfitting**\n",
    "### Model2"
   ]
  },
  {
   "cell_type": "code",
   "execution_count": 19,
   "metadata": {},
   "outputs": [],
   "source": [
    "model2 = Sequential()\n",
    "\n",
    "model2.add(Conv3D(16, kernel_size=(3,3,3), input_shape=(15, 120, 120, 3), padding='same'))\n",
    "model2.add(BatchNormalization())\n",
    "model2.add(Activation('relu'))\n",
    "model2.add(MaxPooling3D(pool_size=(2,2,2)))\n",
    "\n",
    "model2.add(Conv3D(32, kernel_size=(3,3,3), padding='same'))\n",
    "model2.add(BatchNormalization())\n",
    "model2.add(Activation('relu'))\n",
    "model2.add(MaxPooling3D(pool_size=(2,2,2)))\n",
    "\n",
    "model2.add(Conv3D(64, kernel_size=(3,3,3), padding='same'))\n",
    "model2.add(BatchNormalization())\n",
    "model2.add(Activation('relu'))\n",
    "model2.add(MaxPooling3D(pool_size=(2,2,2)))\n",
    "\n",
    "model2.add(Conv3D(128, kernel_size=(3,3,3), padding='same'))\n",
    "model2.add(BatchNormalization())\n",
    "model2.add(Activation('relu'))\n",
    "\n",
    "\n",
    "model2.add(Flatten())\n",
    "\n",
    "model2.add(Dense(128, activation='relu'))\n",
    "model2.add(BatchNormalization())\n",
    "model2.add(Dropout(0.5))\n",
    "\n",
    "model2.add(Dense(128, activation='relu'))\n",
    "model2.add(BatchNormalization())\n",
    "model2.add(Dropout(0.5))\n",
    "\n",
    "#softmax layer\n",
    "model2.add(Dense(5, activation='softmax'))"
   ]
  },
  {
   "cell_type": "code",
   "execution_count": 20,
   "metadata": {},
   "outputs": [
    {
     "name": "stdout",
     "output_type": "stream",
     "text": [
      "Model: \"sequential_2\"\n",
      "_________________________________________________________________\n",
      " Layer (type)                Output Shape              Param #   \n",
      "=================================================================\n",
      " conv3d_7 (Conv3D)           (None, 15, 120, 120, 16)  1312      \n",
      "                                                                 \n",
      " batch_normalization_7 (Batc  (None, 15, 120, 120, 16)  64       \n",
      " hNormalization)                                                 \n",
      "                                                                 \n",
      " activation_7 (Activation)   (None, 15, 120, 120, 16)  0         \n",
      "                                                                 \n",
      " max_pooling3d_6 (MaxPooling  (None, 7, 60, 60, 16)    0         \n",
      " 3D)                                                             \n",
      "                                                                 \n",
      " conv3d_8 (Conv3D)           (None, 7, 60, 60, 32)     13856     \n",
      "                                                                 \n",
      " batch_normalization_8 (Batc  (None, 7, 60, 60, 32)    128       \n",
      " hNormalization)                                                 \n",
      "                                                                 \n",
      " activation_8 (Activation)   (None, 7, 60, 60, 32)     0         \n",
      "                                                                 \n",
      " max_pooling3d_7 (MaxPooling  (None, 3, 30, 30, 32)    0         \n",
      " 3D)                                                             \n",
      "                                                                 \n",
      " conv3d_9 (Conv3D)           (None, 3, 30, 30, 64)     55360     \n",
      "                                                                 \n",
      " batch_normalization_9 (Batc  (None, 3, 30, 30, 64)    256       \n",
      " hNormalization)                                                 \n",
      "                                                                 \n",
      " activation_9 (Activation)   (None, 3, 30, 30, 64)     0         \n",
      "                                                                 \n",
      " max_pooling3d_8 (MaxPooling  (None, 1, 15, 15, 64)    0         \n",
      " 3D)                                                             \n",
      "                                                                 \n",
      " conv3d_10 (Conv3D)          (None, 1, 15, 15, 128)    221312    \n",
      "                                                                 \n",
      " batch_normalization_10 (Bat  (None, 1, 15, 15, 128)   512       \n",
      " chNormalization)                                                \n",
      "                                                                 \n",
      " activation_10 (Activation)  (None, 1, 15, 15, 128)    0         \n",
      "                                                                 \n",
      " flatten_2 (Flatten)         (None, 28800)             0         \n",
      "                                                                 \n",
      " dense_6 (Dense)             (None, 128)               3686528   \n",
      "                                                                 \n",
      " batch_normalization_11 (Bat  (None, 128)              512       \n",
      " chNormalization)                                                \n",
      "                                                                 \n",
      " dropout_4 (Dropout)         (None, 128)               0         \n",
      "                                                                 \n",
      " dense_7 (Dense)             (None, 128)               16512     \n",
      "                                                                 \n",
      " batch_normalization_12 (Bat  (None, 128)              512       \n",
      " chNormalization)                                                \n",
      "                                                                 \n",
      " dropout_5 (Dropout)         (None, 128)               0         \n",
      "                                                                 \n",
      " dense_8 (Dense)             (None, 5)                 645       \n",
      "                                                                 \n",
      "=================================================================\n",
      "Total params: 3,997,509\n",
      "Trainable params: 3,996,517\n",
      "Non-trainable params: 992\n",
      "_________________________________________________________________\n",
      "None\n"
     ]
    }
   ],
   "source": [
    "optimiser = optimizers.Adam()\n",
    "model2.compile(optimizer=optimiser, loss='categorical_crossentropy', metrics=['categorical_accuracy'])\n",
    "print (model2.summary())"
   ]
  },
  {
   "cell_type": "code",
   "execution_count": 21,
   "metadata": {},
   "outputs": [],
   "source": [
    "train_generator = generator(15,train_path, train_doc, batch_size,(120,120))\n",
    "val_generator = generator(15,val_path, val_doc, batch_size,(120,120))"
   ]
  },
  {
   "cell_type": "code",
   "execution_count": 22,
   "metadata": {},
   "outputs": [
    {
     "name": "stdout",
     "output_type": "stream",
     "text": [
      "WARNING:tensorflow:`period` argument is deprecated. Please use `save_freq` to specify the frequency in number of batches seen.\n"
     ]
    }
   ],
   "source": [
    "model_name = 'model_2_init' + '_' + str(curr_dt_time).replace(' ','').replace(':','_') + '/'\n",
    "    \n",
    "if not os.path.exists(model_name):\n",
    "    os.mkdir(model_name)\n",
    "        \n",
    "filepath = model_name + 'model-{epoch:05d}-{loss:.5f}-{categorical_accuracy:.5f}-{val_loss:.5f}-{val_categorical_accuracy:.5f}.h5'\n",
    "\n",
    "checkpoint = ModelCheckpoint(filepath, monitor='val_loss', verbose=1, save_best_only=False, save_weights_only=False, mode='auto', period=1)\n",
    "\n",
    "LR = ReduceLROnPlateau(monitor='val_loss', factor=0.5, patience=2, cooldown=1, verbose=1) # write the REducelronplateau code here\n",
    "callbacks_list = [checkpoint, LR]"
   ]
  },
  {
   "cell_type": "markdown",
   "metadata": {},
   "source": [
    "The `steps_per_epoch` and `validation_steps` are used by `fit_generator` to decide the number of next() calls it need to make."
   ]
  },
  {
   "cell_type": "code",
   "execution_count": 23,
   "metadata": {},
   "outputs": [],
   "source": [
    "batch_size = 25\n",
    "if (num_train_sequences%batch_size) == 0:\n",
    "    steps_per_epoch = int(num_train_sequences/batch_size)\n",
    "else:\n",
    "    steps_per_epoch = (num_train_sequences//batch_size) + 1\n",
    "\n",
    "if (num_val_sequences%batch_size) == 0:\n",
    "    validation_steps = int(num_val_sequences/batch_size)\n",
    "else:\n",
    "    validation_steps = (num_val_sequences//batch_size) + 1"
   ]
  },
  {
   "cell_type": "code",
   "execution_count": 24,
   "metadata": {},
   "outputs": [
    {
     "name": "stdout",
     "output_type": "stream",
     "text": [
      "Source path =  Project_data/train ; batch size = 25\n",
      "Epoch 1/25\n",
      "27/27 [==============================] - ETA: 0s - loss: 1.8004 - categorical_accuracy: 0.4148Source path =  Project_data/val ; batch size = 25\n",
      "\n",
      "Epoch 1: saving model to model_2_init_2024-05-0704_06_02.598057\\model-00001-1.80038-0.41481-1.74642-0.27000.h5\n",
      "27/27 [==============================] - 157s 6s/step - loss: 1.8004 - categorical_accuracy: 0.4148 - val_loss: 1.7464 - val_categorical_accuracy: 0.2700 - lr: 0.0010\n",
      "Epoch 2/25\n",
      "27/27 [==============================] - ETA: 0s - loss: 1.1558 - categorical_accuracy: 0.5852\n",
      "Epoch 2: saving model to model_2_init_2024-05-0704_06_02.598057\\model-00002-1.15583-0.58519-3.11677-0.16000.h5\n",
      "27/27 [==============================] - 149s 6s/step - loss: 1.1558 - categorical_accuracy: 0.5852 - val_loss: 3.1168 - val_categorical_accuracy: 0.1600 - lr: 0.0010\n",
      "Epoch 3/25\n",
      "27/27 [==============================] - ETA: 0s - loss: 0.8310 - categorical_accuracy: 0.6889\n",
      "Epoch 3: saving model to model_2_init_2024-05-0704_06_02.598057\\model-00003-0.83099-0.68889-3.80430-0.28000.h5\n",
      "\n",
      "Epoch 3: ReduceLROnPlateau reducing learning rate to 0.0005000000237487257.\n",
      "27/27 [==============================] - 143s 5s/step - loss: 0.8310 - categorical_accuracy: 0.6889 - val_loss: 3.8043 - val_categorical_accuracy: 0.2800 - lr: 0.0010\n",
      "Epoch 4/25\n",
      "27/27 [==============================] - ETA: 0s - loss: 0.6410 - categorical_accuracy: 0.7526\n",
      "Epoch 4: saving model to model_2_init_2024-05-0704_06_02.598057\\model-00004-0.64102-0.75259-4.39045-0.23000.h5\n",
      "27/27 [==============================] - 147s 5s/step - loss: 0.6410 - categorical_accuracy: 0.7526 - val_loss: 4.3905 - val_categorical_accuracy: 0.2300 - lr: 5.0000e-04\n",
      "Epoch 5/25\n",
      "27/27 [==============================] - ETA: 0s - loss: 0.4903 - categorical_accuracy: 0.8400\n",
      "Epoch 5: saving model to model_2_init_2024-05-0704_06_02.598057\\model-00005-0.49032-0.84000-4.56649-0.21000.h5\n",
      "\n",
      "Epoch 5: ReduceLROnPlateau reducing learning rate to 0.0002500000118743628.\n",
      "27/27 [==============================] - 153s 6s/step - loss: 0.4903 - categorical_accuracy: 0.8400 - val_loss: 4.5665 - val_categorical_accuracy: 0.2100 - lr: 5.0000e-04\n",
      "Epoch 6/25\n",
      "27/27 [==============================] - ETA: 0s - loss: 0.3318 - categorical_accuracy: 0.8785\n",
      "Epoch 6: saving model to model_2_init_2024-05-0704_06_02.598057\\model-00006-0.33178-0.87852-4.81631-0.20000.h5\n",
      "27/27 [==============================] - 149s 6s/step - loss: 0.3318 - categorical_accuracy: 0.8785 - val_loss: 4.8163 - val_categorical_accuracy: 0.2000 - lr: 2.5000e-04\n",
      "Epoch 7/25\n",
      "27/27 [==============================] - ETA: 0s - loss: 0.3431 - categorical_accuracy: 0.8770\n",
      "Epoch 7: saving model to model_2_init_2024-05-0704_06_02.598057\\model-00007-0.34306-0.87704-4.60608-0.20000.h5\n",
      "\n",
      "Epoch 7: ReduceLROnPlateau reducing learning rate to 0.0001250000059371814.\n",
      "27/27 [==============================] - 144s 5s/step - loss: 0.3431 - categorical_accuracy: 0.8770 - val_loss: 4.6061 - val_categorical_accuracy: 0.2000 - lr: 2.5000e-04\n",
      "Epoch 8/25\n",
      "27/27 [==============================] - ETA: 0s - loss: 0.2887 - categorical_accuracy: 0.8919\n",
      "Epoch 8: saving model to model_2_init_2024-05-0704_06_02.598057\\model-00008-0.28872-0.89185-4.26203-0.22000.h5\n",
      "27/27 [==============================] - 145s 5s/step - loss: 0.2887 - categorical_accuracy: 0.8919 - val_loss: 4.2620 - val_categorical_accuracy: 0.2200 - lr: 1.2500e-04\n",
      "Epoch 9/25\n",
      "27/27 [==============================] - ETA: 0s - loss: 0.2350 - categorical_accuracy: 0.9348\n",
      "Epoch 9: saving model to model_2_init_2024-05-0704_06_02.598057\\model-00009-0.23496-0.93481-4.61664-0.21000.h5\n",
      "\n",
      "Epoch 9: ReduceLROnPlateau reducing learning rate to 6.25000029685907e-05.\n",
      "27/27 [==============================] - 145s 5s/step - loss: 0.2350 - categorical_accuracy: 0.9348 - val_loss: 4.6166 - val_categorical_accuracy: 0.2100 - lr: 1.2500e-04\n",
      "Epoch 10/25\n",
      "27/27 [==============================] - ETA: 0s - loss: 0.2388 - categorical_accuracy: 0.9141\n",
      "Epoch 10: saving model to model_2_init_2024-05-0704_06_02.598057\\model-00010-0.23883-0.91407-4.36251-0.19000.h5\n",
      "27/27 [==============================] - 147s 5s/step - loss: 0.2388 - categorical_accuracy: 0.9141 - val_loss: 4.3625 - val_categorical_accuracy: 0.1900 - lr: 6.2500e-05\n",
      "Epoch 11/25\n",
      "27/27 [==============================] - ETA: 0s - loss: 0.1864 - categorical_accuracy: 0.9422\n",
      "Epoch 11: saving model to model_2_init_2024-05-0704_06_02.598057\\model-00011-0.18641-0.94222-4.41028-0.19000.h5\n",
      "\n",
      "Epoch 11: ReduceLROnPlateau reducing learning rate to 3.125000148429535e-05.\n",
      "27/27 [==============================] - 145s 5s/step - loss: 0.1864 - categorical_accuracy: 0.9422 - val_loss: 4.4103 - val_categorical_accuracy: 0.1900 - lr: 6.2500e-05\n",
      "Epoch 12/25\n",
      "27/27 [==============================] - ETA: 0s - loss: 0.2159 - categorical_accuracy: 0.9274\n",
      "Epoch 12: saving model to model_2_init_2024-05-0704_06_02.598057\\model-00012-0.21586-0.92741-3.57541-0.22000.h5\n",
      "27/27 [==============================] - 142s 5s/step - loss: 0.2159 - categorical_accuracy: 0.9274 - val_loss: 3.5754 - val_categorical_accuracy: 0.2200 - lr: 3.1250e-05\n",
      "Epoch 13/25\n",
      "27/27 [==============================] - ETA: 0s - loss: 0.2292 - categorical_accuracy: 0.9244\n",
      "Epoch 13: saving model to model_2_init_2024-05-0704_06_02.598057\\model-00013-0.22922-0.92444-3.17157-0.24000.h5\n",
      "\n",
      "Epoch 13: ReduceLROnPlateau reducing learning rate to 1.5625000742147677e-05.\n",
      "27/27 [==============================] - 152s 6s/step - loss: 0.2292 - categorical_accuracy: 0.9244 - val_loss: 3.1716 - val_categorical_accuracy: 0.2400 - lr: 3.1250e-05\n",
      "Epoch 14/25\n",
      "27/27 [==============================] - ETA: 0s - loss: 0.1958 - categorical_accuracy: 0.9348\n",
      "Epoch 14: saving model to model_2_init_2024-05-0704_06_02.598057\\model-00014-0.19582-0.93481-2.44089-0.35000.h5\n",
      "27/27 [==============================] - 148s 5s/step - loss: 0.1958 - categorical_accuracy: 0.9348 - val_loss: 2.4409 - val_categorical_accuracy: 0.3500 - lr: 1.5625e-05\n",
      "Epoch 15/25\n",
      "27/27 [==============================] - ETA: 0s - loss: 0.1550 - categorical_accuracy: 0.9541\n",
      "Epoch 15: saving model to model_2_init_2024-05-0704_06_02.598057\\model-00015-0.15503-0.95407-2.25823-0.36000.h5\n",
      "\n",
      "Epoch 15: ReduceLROnPlateau reducing learning rate to 7.812500371073838e-06.\n",
      "27/27 [==============================] - 149s 6s/step - loss: 0.1550 - categorical_accuracy: 0.9541 - val_loss: 2.2582 - val_categorical_accuracy: 0.3600 - lr: 1.5625e-05\n",
      "Epoch 16/25\n",
      "27/27 [==============================] - ETA: 0s - loss: 0.1848 - categorical_accuracy: 0.9378\n",
      "Epoch 16: saving model to model_2_init_2024-05-0704_06_02.598057\\model-00016-0.18485-0.93778-1.90559-0.53000.h5\n",
      "27/27 [==============================] - 148s 6s/step - loss: 0.1848 - categorical_accuracy: 0.9378 - val_loss: 1.9056 - val_categorical_accuracy: 0.5300 - lr: 7.8125e-06\n",
      "Epoch 17/25\n",
      "27/27 [==============================] - ETA: 0s - loss: 0.1932 - categorical_accuracy: 0.9393\n",
      "Epoch 17: saving model to model_2_init_2024-05-0704_06_02.598057\\model-00017-0.19325-0.93926-1.37183-0.65000.h5\n",
      "27/27 [==============================] - 147s 6s/step - loss: 0.1932 - categorical_accuracy: 0.9393 - val_loss: 1.3718 - val_categorical_accuracy: 0.6500 - lr: 7.8125e-06\n",
      "Epoch 18/25\n",
      "27/27 [==============================] - ETA: 0s - loss: 0.2011 - categorical_accuracy: 0.9348\n",
      "Epoch 18: saving model to model_2_init_2024-05-0704_06_02.598057\\model-00018-0.20108-0.93481-1.09991-0.70000.h5\n",
      "27/27 [==============================] - 153s 6s/step - loss: 0.2011 - categorical_accuracy: 0.9348 - val_loss: 1.0999 - val_categorical_accuracy: 0.7000 - lr: 7.8125e-06\n",
      "Epoch 19/25\n",
      "27/27 [==============================] - ETA: 0s - loss: 0.1539 - categorical_accuracy: 0.9526\n",
      "Epoch 19: saving model to model_2_init_2024-05-0704_06_02.598057\\model-00019-0.15386-0.95259-1.05796-0.70000.h5\n",
      "27/27 [==============================] - 150s 6s/step - loss: 0.1539 - categorical_accuracy: 0.9526 - val_loss: 1.0580 - val_categorical_accuracy: 0.7000 - lr: 7.8125e-06\n",
      "Epoch 20/25\n",
      "27/27 [==============================] - ETA: 0s - loss: 0.1856 - categorical_accuracy: 0.9511\n",
      "Epoch 20: saving model to model_2_init_2024-05-0704_06_02.598057\\model-00020-0.18561-0.95111-0.86650-0.75000.h5\n",
      "27/27 [==============================] - 141s 5s/step - loss: 0.1856 - categorical_accuracy: 0.9511 - val_loss: 0.8665 - val_categorical_accuracy: 0.7500 - lr: 7.8125e-06\n",
      "Epoch 21/25\n",
      "27/27 [==============================] - ETA: 0s - loss: 0.1907 - categorical_accuracy: 0.9289\n",
      "Epoch 21: saving model to model_2_init_2024-05-0704_06_02.598057\\model-00021-0.19069-0.92889-0.65332-0.77000.h5\n",
      "27/27 [==============================] - 145s 5s/step - loss: 0.1907 - categorical_accuracy: 0.9289 - val_loss: 0.6533 - val_categorical_accuracy: 0.7700 - lr: 7.8125e-06\n",
      "Epoch 22/25\n",
      "27/27 [==============================] - ETA: 0s - loss: 0.1907 - categorical_accuracy: 0.9348\n",
      "Epoch 22: saving model to model_2_init_2024-05-0704_06_02.598057\\model-00022-0.19068-0.93481-0.59365-0.80000.h5\n",
      "27/27 [==============================] - 149s 6s/step - loss: 0.1907 - categorical_accuracy: 0.9348 - val_loss: 0.5936 - val_categorical_accuracy: 0.8000 - lr: 7.8125e-06\n",
      "Epoch 23/25\n",
      "27/27 [==============================] - ETA: 0s - loss: 0.1816 - categorical_accuracy: 0.9378\n",
      "Epoch 23: saving model to model_2_init_2024-05-0704_06_02.598057\\model-00023-0.18155-0.93778-0.44810-0.83000.h5\n",
      "27/27 [==============================] - 150s 6s/step - loss: 0.1816 - categorical_accuracy: 0.9378 - val_loss: 0.4481 - val_categorical_accuracy: 0.8300 - lr: 7.8125e-06\n",
      "Epoch 24/25\n",
      "27/27 [==============================] - ETA: 0s - loss: 0.1718 - categorical_accuracy: 0.9467\n",
      "Epoch 24: saving model to model_2_init_2024-05-0704_06_02.598057\\model-00024-0.17177-0.94667-0.45716-0.84000.h5\n",
      "27/27 [==============================] - 154s 6s/step - loss: 0.1718 - categorical_accuracy: 0.9467 - val_loss: 0.4572 - val_categorical_accuracy: 0.8400 - lr: 7.8125e-06\n",
      "Epoch 25/25\n",
      "27/27 [==============================] - ETA: 0s - loss: 0.1738 - categorical_accuracy: 0.9541\n",
      "Epoch 25: saving model to model_2_init_2024-05-0704_06_02.598057\\model-00025-0.17381-0.95407-0.44062-0.85000.h5\n",
      "27/27 [==============================] - 144s 5s/step - loss: 0.1738 - categorical_accuracy: 0.9541 - val_loss: 0.4406 - val_categorical_accuracy: 0.8500 - lr: 7.8125e-06\n"
     ]
    }
   ],
   "source": [
    "history2 = model2.fit_generator(train_generator, steps_per_epoch=steps_per_epoch, epochs=25, verbose=1, \n",
    "                    callbacks=callbacks_list, validation_data=val_generator, \n",
    "                    validation_steps=validation_steps, class_weight=None, workers=1, initial_epoch=0)"
   ]
  },
  {
   "cell_type": "code",
   "execution_count": 42,
   "metadata": {},
   "outputs": [
    {
     "data": {
      "image/png": "[encoded data removed]",
      "text/plain": [
       "<Figure size 1000x300 with 2 Axes>"
      ]
     },
     "metadata": {},
     "output_type": "display_data"
    }
   ],
   "source": [
    "plot_acc(history2)"
   ]
  },
  {
   "cell_type": "markdown",
   "metadata": {},
   "source": [
    "**Great improvement in performance, trying with only 10 frames instead of 15 for each video and reducing batch size to 20**<br>\n",
    "**Reducing the Dropout to 0.25 from 0.5**<br>\n",
    "**Gradually reducing dense connections**\n",
    "### Model3"
   ]
  },
  {
   "cell_type": "code",
   "execution_count": 26,
   "metadata": {},
   "outputs": [],
   "source": [
    "model3 = Sequential()\n",
    "\n",
    "model3.add(Conv3D(16, kernel_size=(3,3,3), input_shape=(10, 120, 120, 3), padding='same'))\n",
    "model3.add(BatchNormalization())\n",
    "model3.add(Activation('relu'))\n",
    "model3.add(MaxPooling3D(pool_size=(2,2,2)))\n",
    "\n",
    "model3.add(Conv3D(32, kernel_size=(3,3,3), padding='same'))\n",
    "model3.add(BatchNormalization())\n",
    "model3.add(Activation('relu'))\n",
    "model3.add(MaxPooling3D(pool_size=(2,2,2)))\n",
    "\n",
    "model3.add(Conv3D(64, kernel_size=(3,3,3), padding='same'))\n",
    "model3.add(BatchNormalization())\n",
    "model3.add(Activation('relu'))\n",
    "model3.add(MaxPooling3D(pool_size=(2,2,2)))\n",
    "\n",
    "model3.add(Conv3D(128, kernel_size=(3,3,3), padding='same'))\n",
    "model3.add(BatchNormalization())\n",
    "model3.add(Activation('relu'))\n",
    "\n",
    "model3.add(Flatten())\n",
    "\n",
    "model3.add(Dense(128, activation='relu'))\n",
    "model3.add(BatchNormalization())\n",
    "model3.add(Dropout(0.25))\n",
    "\n",
    "model3.add(Dense(64, activation='relu'))\n",
    "model3.add(BatchNormalization())\n",
    "model3.add(Dropout(0.25))\n",
    "\n",
    "#softmax layer\n",
    "model3.add(Dense(5, activation='softmax'))"
   ]
  },
  {
   "cell_type": "code",
   "execution_count": 27,
   "metadata": {},
   "outputs": [
    {
     "name": "stdout",
     "output_type": "stream",
     "text": [
      "Model: \"sequential_3\"\n",
      "_________________________________________________________________\n",
      " Layer (type)                Output Shape              Param #   \n",
      "=================================================================\n",
      " conv3d_11 (Conv3D)          (None, 10, 120, 120, 16)  1312      \n",
      "                                                                 \n",
      " batch_normalization_13 (Bat  (None, 10, 120, 120, 16)  64       \n",
      " chNormalization)                                                \n",
      "                                                                 \n",
      " activation_11 (Activation)  (None, 10, 120, 120, 16)  0         \n",
      "                                                                 \n",
      " max_pooling3d_9 (MaxPooling  (None, 5, 60, 60, 16)    0         \n",
      " 3D)                                                             \n",
      "                                                                 \n",
      " conv3d_12 (Conv3D)          (None, 5, 60, 60, 32)     13856     \n",
      "                                                                 \n",
      " batch_normalization_14 (Bat  (None, 5, 60, 60, 32)    128       \n",
      " chNormalization)                                                \n",
      "                                                                 \n",
      " activation_12 (Activation)  (None, 5, 60, 60, 32)     0         \n",
      "                                                                 \n",
      " max_pooling3d_10 (MaxPoolin  (None, 2, 30, 30, 32)    0         \n",
      " g3D)                                                            \n",
      "                                                                 \n",
      " conv3d_13 (Conv3D)          (None, 2, 30, 30, 64)     55360     \n",
      "                                                                 \n",
      " batch_normalization_15 (Bat  (None, 2, 30, 30, 64)    256       \n",
      " chNormalization)                                                \n",
      "                                                                 \n",
      " activation_13 (Activation)  (None, 2, 30, 30, 64)     0         \n",
      "                                                                 \n",
      " max_pooling3d_11 (MaxPoolin  (None, 1, 15, 15, 64)    0         \n",
      " g3D)                                                            \n",
      "                                                                 \n",
      " conv3d_14 (Conv3D)          (None, 1, 15, 15, 128)    221312    \n",
      "                                                                 \n",
      " batch_normalization_16 (Bat  (None, 1, 15, 15, 128)   512       \n",
      " chNormalization)                                                \n",
      "                                                                 \n",
      " activation_14 (Activation)  (None, 1, 15, 15, 128)    0         \n",
      "                                                                 \n",
      " flatten_3 (Flatten)         (None, 28800)             0         \n",
      "                                                                 \n",
      " dense_9 (Dense)             (None, 128)               3686528   \n",
      "                                                                 \n",
      " batch_normalization_17 (Bat  (None, 128)              512       \n",
      " chNormalization)                                                \n",
      "                                                                 \n",
      " dropout_6 (Dropout)         (None, 128)               0         \n",
      "                                                                 \n",
      " dense_10 (Dense)            (None, 64)                8256      \n",
      "                                                                 \n",
      " batch_normalization_18 (Bat  (None, 64)               256       \n",
      " chNormalization)                                                \n",
      "                                                                 \n",
      " dropout_7 (Dropout)         (None, 64)                0         \n",
      "                                                                 \n",
      " dense_11 (Dense)            (None, 5)                 325       \n",
      "                                                                 \n",
      "=================================================================\n",
      "Total params: 3,988,677\n",
      "Trainable params: 3,987,813\n",
      "Non-trainable params: 864\n",
      "_________________________________________________________________\n",
      "None\n"
     ]
    }
   ],
   "source": [
    "optimiser = optimizers.Adam()\n",
    "model3.compile(optimizer=optimiser, loss='categorical_crossentropy', metrics=['categorical_accuracy'])\n",
    "print (model3.summary())"
   ]
  },
  {
   "cell_type": "code",
   "execution_count": 28,
   "metadata": {},
   "outputs": [],
   "source": [
    "batch_size = 20\n",
    "train_generator = generator(10,train_path, train_doc, batch_size,(120,120))\n",
    "val_generator = generator(10,val_path, val_doc, batch_size,(120,120))"
   ]
  },
  {
   "cell_type": "code",
   "execution_count": 29,
   "metadata": {},
   "outputs": [
    {
     "name": "stdout",
     "output_type": "stream",
     "text": [
      "WARNING:tensorflow:`period` argument is deprecated. Please use `save_freq` to specify the frequency in number of batches seen.\n"
     ]
    }
   ],
   "source": [
    "model_name = 'model_3_init' + '_' + str(curr_dt_time).replace(' ','').replace(':','_') + '/'\n",
    "    \n",
    "if not os.path.exists(model_name):\n",
    "    os.mkdir(model_name)\n",
    "        \n",
    "filepath = model_name + 'model-{epoch:05d}-{loss:.5f}-{categorical_accuracy:.5f}-{val_loss:.5f}-{val_categorical_accuracy:.5f}.h5'\n",
    "\n",
    "checkpoint = ModelCheckpoint(filepath, monitor='val_loss', verbose=1, save_best_only=False, save_weights_only=False, mode='auto', period=1)\n",
    "\n",
    "LR = ReduceLROnPlateau(monitor='val_loss', factor=0.5, patience=2, cooldown=1, verbose=1) # write the REducelronplateau code here\n",
    "callbacks_list = [checkpoint, LR]"
   ]
  },
  {
   "cell_type": "markdown",
   "metadata": {},
   "source": [
    "The `steps_per_epoch` and `validation_steps` are used by `fit_generator` to decide the number of next() calls it need to make."
   ]
  },
  {
   "cell_type": "code",
   "execution_count": 30,
   "metadata": {},
   "outputs": [],
   "source": [
    "if (num_train_sequences%batch_size) == 0:\n",
    "    steps_per_epoch = int(num_train_sequences/batch_size)\n",
    "else:\n",
    "    steps_per_epoch = (num_train_sequences//batch_size) + 1\n",
    "\n",
    "if (num_val_sequences%batch_size) == 0:\n",
    "    validation_steps = int(num_val_sequences/batch_size)\n",
    "else:\n",
    "    validation_steps = (num_val_sequences//batch_size) + 1"
   ]
  },
  {
   "cell_type": "code",
   "execution_count": 31,
   "metadata": {},
   "outputs": [
    {
     "name": "stdout",
     "output_type": "stream",
     "text": [
      "Source path =  Project_data/train ; batch size = 20\n",
      "Epoch 1/25\n",
      "34/34 [==============================] - ETA: 0s - loss: 1.4902 - categorical_accuracy: 0.4309Source path =  Project_data/val ; batch size = 20\n",
      "\n",
      "Epoch 1: saving model to model_3_init_2024-05-0704_06_02.598057\\model-00001-1.49021-0.43088-2.18656-0.16000.h5\n",
      "34/34 [==============================] - 118s 3s/step - loss: 1.4902 - categorical_accuracy: 0.4309 - val_loss: 2.1866 - val_categorical_accuracy: 0.1600 - lr: 0.0010\n",
      "Epoch 2/25\n",
      "34/34 [==============================] - ETA: 0s - loss: 0.9383 - categorical_accuracy: 0.6324\n",
      "Epoch 2: saving model to model_3_init_2024-05-0704_06_02.598057\\model-00002-0.93834-0.63235-3.07938-0.23000.h5\n",
      "34/34 [==============================] - 94s 3s/step - loss: 0.9383 - categorical_accuracy: 0.6324 - val_loss: 3.0794 - val_categorical_accuracy: 0.2300 - lr: 0.0010\n",
      "Epoch 3/25\n",
      "34/34 [==============================] - ETA: 0s - loss: 0.6610 - categorical_accuracy: 0.7456\n",
      "Epoch 3: saving model to model_3_init_2024-05-0704_06_02.598057\\model-00003-0.66101-0.74559-4.52159-0.20000.h5\n",
      "\n",
      "Epoch 3: ReduceLROnPlateau reducing learning rate to 0.0005000000237487257.\n",
      "34/34 [==============================] - 96s 3s/step - loss: 0.6610 - categorical_accuracy: 0.7456 - val_loss: 4.5216 - val_categorical_accuracy: 0.2000 - lr: 0.0010\n",
      "Epoch 4/25\n",
      "34/34 [==============================] - ETA: 0s - loss: 0.3802 - categorical_accuracy: 0.8691\n",
      "Epoch 4: saving model to model_3_init_2024-05-0704_06_02.598057\\model-00004-0.38021-0.86912-5.12361-0.17000.h5\n",
      "34/34 [==============================] - 98s 3s/step - loss: 0.3802 - categorical_accuracy: 0.8691 - val_loss: 5.1236 - val_categorical_accuracy: 0.1700 - lr: 5.0000e-04\n",
      "Epoch 5/25\n",
      "34/34 [==============================] - ETA: 0s - loss: 0.3000 - categorical_accuracy: 0.9015\n",
      "Epoch 5: saving model to model_3_init_2024-05-0704_06_02.598057\\model-00005-0.30000-0.90147-5.98932-0.24000.h5\n",
      "\n",
      "Epoch 5: ReduceLROnPlateau reducing learning rate to 0.0002500000118743628.\n",
      "34/34 [==============================] - 96s 3s/step - loss: 0.3000 - categorical_accuracy: 0.9015 - val_loss: 5.9893 - val_categorical_accuracy: 0.2400 - lr: 5.0000e-04\n",
      "Epoch 6/25\n",
      "34/34 [==============================] - ETA: 0s - loss: 0.2014 - categorical_accuracy: 0.9471\n",
      "Epoch 6: saving model to model_3_init_2024-05-0704_06_02.598057\\model-00006-0.20141-0.94706-5.85148-0.21000.h5\n",
      "34/34 [==============================] - 98s 3s/step - loss: 0.2014 - categorical_accuracy: 0.9471 - val_loss: 5.8515 - val_categorical_accuracy: 0.2100 - lr: 2.5000e-04\n",
      "Epoch 7/25\n",
      "34/34 [==============================] - ETA: 0s - loss: 0.1479 - categorical_accuracy: 0.9632\n",
      "Epoch 7: saving model to model_3_init_2024-05-0704_06_02.598057\\model-00007-0.14789-0.96324-5.86887-0.23000.h5\n",
      "\n",
      "Epoch 7: ReduceLROnPlateau reducing learning rate to 0.0001250000059371814.\n",
      "34/34 [==============================] - 97s 3s/step - loss: 0.1479 - categorical_accuracy: 0.9632 - val_loss: 5.8689 - val_categorical_accuracy: 0.2300 - lr: 2.5000e-04\n",
      "Epoch 8/25\n",
      "34/34 [==============================] - ETA: 0s - loss: 0.1443 - categorical_accuracy: 0.9632\n",
      "Epoch 8: saving model to model_3_init_2024-05-0704_06_02.598057\\model-00008-0.14431-0.96324-5.93403-0.15000.h5\n",
      "34/34 [==============================] - 97s 3s/step - loss: 0.1443 - categorical_accuracy: 0.9632 - val_loss: 5.9340 - val_categorical_accuracy: 0.1500 - lr: 1.2500e-04\n",
      "Epoch 9/25\n",
      "34/34 [==============================] - ETA: 0s - loss: 0.1304 - categorical_accuracy: 0.9706\n",
      "Epoch 9: saving model to model_3_init_2024-05-0704_06_02.598057\\model-00009-0.13043-0.97059-5.15539-0.22000.h5\n",
      "\n",
      "Epoch 9: ReduceLROnPlateau reducing learning rate to 6.25000029685907e-05.\n",
      "34/34 [==============================] - 98s 3s/step - loss: 0.1304 - categorical_accuracy: 0.9706 - val_loss: 5.1554 - val_categorical_accuracy: 0.2200 - lr: 1.2500e-04\n",
      "Epoch 10/25\n",
      "34/34 [==============================] - ETA: 0s - loss: 0.0936 - categorical_accuracy: 0.9853\n",
      "Epoch 10: saving model to model_3_init_2024-05-0704_06_02.598057\\model-00010-0.09361-0.98529-4.44582-0.27000.h5\n",
      "34/34 [==============================] - 99s 3s/step - loss: 0.0936 - categorical_accuracy: 0.9853 - val_loss: 4.4458 - val_categorical_accuracy: 0.2700 - lr: 6.2500e-05\n",
      "Epoch 11/25\n",
      "34/34 [==============================] - ETA: 0s - loss: 0.0974 - categorical_accuracy: 0.9809\n",
      "Epoch 11: saving model to model_3_init_2024-05-0704_06_02.598057\\model-00011-0.09745-0.98088-3.42039-0.30000.h5\n",
      "\n",
      "Epoch 11: ReduceLROnPlateau reducing learning rate to 3.125000148429535e-05.\n",
      "34/34 [==============================] - 97s 3s/step - loss: 0.0974 - categorical_accuracy: 0.9809 - val_loss: 3.4204 - val_categorical_accuracy: 0.3000 - lr: 6.2500e-05\n",
      "Epoch 12/25\n",
      "34/34 [==============================] - ETA: 0s - loss: 0.0806 - categorical_accuracy: 0.9897\n",
      "Epoch 12: saving model to model_3_init_2024-05-0704_06_02.598057\\model-00012-0.08057-0.98971-2.80328-0.31000.h5\n",
      "34/34 [==============================] - 96s 3s/step - loss: 0.0806 - categorical_accuracy: 0.9897 - val_loss: 2.8033 - val_categorical_accuracy: 0.3100 - lr: 3.1250e-05\n",
      "Epoch 13/25\n",
      "34/34 [==============================] - ETA: 0s - loss: 0.1112 - categorical_accuracy: 0.9750\n",
      "Epoch 13: saving model to model_3_init_2024-05-0704_06_02.598057\\model-00013-0.11117-0.97500-1.75725-0.48000.h5\n",
      "34/34 [==============================] - 96s 3s/step - loss: 0.1112 - categorical_accuracy: 0.9750 - val_loss: 1.7573 - val_categorical_accuracy: 0.4800 - lr: 3.1250e-05\n",
      "Epoch 14/25\n",
      "34/34 [==============================] - ETA: 0s - loss: 0.0925 - categorical_accuracy: 0.9838\n",
      "Epoch 14: saving model to model_3_init_2024-05-0704_06_02.598057\\model-00014-0.09250-0.98382-1.02355-0.69000.h5\n",
      "34/34 [==============================] - 102s 3s/step - loss: 0.0925 - categorical_accuracy: 0.9838 - val_loss: 1.0235 - val_categorical_accuracy: 0.6900 - lr: 3.1250e-05\n",
      "Epoch 15/25\n",
      "34/34 [==============================] - ETA: 0s - loss: 0.0667 - categorical_accuracy: 0.9956\n",
      "Epoch 15: saving model to model_3_init_2024-05-0704_06_02.598057\\model-00015-0.06668-0.99559-0.90651-0.72000.h5\n",
      "34/34 [==============================] - 93s 3s/step - loss: 0.0667 - categorical_accuracy: 0.9956 - val_loss: 0.9065 - val_categorical_accuracy: 0.7200 - lr: 3.1250e-05\n",
      "Epoch 16/25\n",
      "34/34 [==============================] - ETA: 0s - loss: 0.0648 - categorical_accuracy: 0.9897\n",
      "Epoch 16: saving model to model_3_init_2024-05-0704_06_02.598057\\model-00016-0.06477-0.98971-0.70776-0.76000.h5\n",
      "34/34 [==============================] - 98s 3s/step - loss: 0.0648 - categorical_accuracy: 0.9897 - val_loss: 0.7078 - val_categorical_accuracy: 0.7600 - lr: 3.1250e-05\n",
      "Epoch 17/25\n",
      "34/34 [==============================] - ETA: 0s - loss: 0.0810 - categorical_accuracy: 0.9794\n",
      "Epoch 17: saving model to model_3_init_2024-05-0704_06_02.598057\\model-00017-0.08105-0.97941-0.68896-0.76000.h5\n",
      "34/34 [==============================] - 95s 3s/step - loss: 0.0810 - categorical_accuracy: 0.9794 - val_loss: 0.6890 - val_categorical_accuracy: 0.7600 - lr: 3.1250e-05\n",
      "Epoch 18/25\n",
      "34/34 [==============================] - ETA: 0s - loss: 0.0750 - categorical_accuracy: 0.9838\n",
      "Epoch 18: saving model to model_3_init_2024-05-0704_06_02.598057\\model-00018-0.07496-0.98382-0.56340-0.79000.h5\n",
      "34/34 [==============================] - 98s 3s/step - loss: 0.0750 - categorical_accuracy: 0.9838 - val_loss: 0.5634 - val_categorical_accuracy: 0.7900 - lr: 3.1250e-05\n",
      "Epoch 19/25\n",
      "34/34 [==============================] - ETA: 0s - loss: 0.0607 - categorical_accuracy: 0.9912\n",
      "Epoch 19: saving model to model_3_init_2024-05-0704_06_02.598057\\model-00019-0.06073-0.99118-0.59558-0.78000.h5\n",
      "34/34 [==============================] - 100s 3s/step - loss: 0.0607 - categorical_accuracy: 0.9912 - val_loss: 0.5956 - val_categorical_accuracy: 0.7800 - lr: 3.1250e-05\n",
      "Epoch 20/25\n",
      "34/34 [==============================] - ETA: 0s - loss: 0.0626 - categorical_accuracy: 0.9926\n",
      "Epoch 20: saving model to model_3_init_2024-05-0704_06_02.598057\\model-00020-0.06259-0.99265-0.36031-0.89000.h5\n",
      "34/34 [==============================] - 96s 3s/step - loss: 0.0626 - categorical_accuracy: 0.9926 - val_loss: 0.3603 - val_categorical_accuracy: 0.8900 - lr: 3.1250e-05\n",
      "Epoch 21/25\n",
      "34/34 [==============================] - ETA: 0s - loss: 0.0656 - categorical_accuracy: 0.9956\n",
      "Epoch 21: saving model to model_3_init_2024-05-0704_06_02.598057\\model-00021-0.06562-0.99559-0.40886-0.86000.h5\n",
      "34/34 [==============================] - 97s 3s/step - loss: 0.0656 - categorical_accuracy: 0.9956 - val_loss: 0.4089 - val_categorical_accuracy: 0.8600 - lr: 3.1250e-05\n",
      "Epoch 22/25\n",
      "34/34 [==============================] - ETA: 0s - loss: 0.0669 - categorical_accuracy: 0.9868\n",
      "Epoch 22: saving model to model_3_init_2024-05-0704_06_02.598057\\model-00022-0.06694-0.98676-0.36146-0.88000.h5\n",
      "\n",
      "Epoch 22: ReduceLROnPlateau reducing learning rate to 1.5625000742147677e-05.\n",
      "34/34 [==============================] - 95s 3s/step - loss: 0.0669 - categorical_accuracy: 0.9868 - val_loss: 0.3615 - val_categorical_accuracy: 0.8800 - lr: 3.1250e-05\n",
      "Epoch 23/25\n",
      "34/34 [==============================] - ETA: 0s - loss: 0.0560 - categorical_accuracy: 0.9971\n",
      "Epoch 23: saving model to model_3_init_2024-05-0704_06_02.598057\\model-00023-0.05601-0.99706-0.32838-0.88000.h5\n",
      "34/34 [==============================] - 98s 3s/step - loss: 0.0560 - categorical_accuracy: 0.9971 - val_loss: 0.3284 - val_categorical_accuracy: 0.8800 - lr: 1.5625e-05\n",
      "Epoch 24/25\n",
      "34/34 [==============================] - ETA: 0s - loss: 0.0584 - categorical_accuracy: 0.9897\n",
      "Epoch 24: saving model to model_3_init_2024-05-0704_06_02.598057\\model-00024-0.05843-0.98971-0.41684-0.86000.h5\n",
      "34/34 [==============================] - 97s 3s/step - loss: 0.0584 - categorical_accuracy: 0.9897 - val_loss: 0.4168 - val_categorical_accuracy: 0.8600 - lr: 1.5625e-05\n",
      "Epoch 25/25\n",
      "34/34 [==============================] - ETA: 0s - loss: 0.0531 - categorical_accuracy: 0.9956\n",
      "Epoch 25: saving model to model_3_init_2024-05-0704_06_02.598057\\model-00025-0.05310-0.99559-0.32837-0.91000.h5\n",
      "\n",
      "Epoch 25: ReduceLROnPlateau reducing learning rate to 7.812500371073838e-06.\n",
      "34/34 [==============================] - 105s 3s/step - loss: 0.0531 - categorical_accuracy: 0.9956 - val_loss: 0.3284 - val_categorical_accuracy: 0.9100 - lr: 1.5625e-05\n"
     ]
    }
   ],
   "source": [
    "history3 = model3.fit_generator(train_generator, steps_per_epoch=steps_per_epoch, epochs=25, verbose=1, \n",
    "                    callbacks=callbacks_list, validation_data=val_generator, \n",
    "                    validation_steps=validation_steps, class_weight=None, workers=1, initial_epoch=0)"
   ]
  },
  {
   "cell_type": "code",
   "execution_count": 43,
   "metadata": {},
   "outputs": [
    {
     "data": {
      "image/png": "[encoded data removed]",
      "text/plain": [
       "<Figure size 1000x300 with 2 Axes>"
      ]
     },
     "metadata": {},
     "output_type": "display_data"
    }
   ],
   "source": [
    "plot_acc(history3)"
   ]
  },
  {
   "cell_type": "markdown",
   "metadata": {},
   "source": [
    "**Trying the model with increased Image size to (160,160)**\n",
    "### Model4"
   ]
  },
  {
   "cell_type": "code",
   "execution_count": 33,
   "metadata": {},
   "outputs": [],
   "source": [
    "model4 = Sequential()\n",
    "\n",
    "model4.add(Conv3D(32, kernel_size=(3,3,3), input_shape=(10, 160, 160, 3), padding='same'))\n",
    "model4.add(BatchNormalization())\n",
    "model4.add(Activation('relu'))\n",
    "model4.add(MaxPooling3D(pool_size=(2,2,2)))\n",
    "\n",
    "model4.add(Conv3D(32, kernel_size=(3,3,3), padding='same'))\n",
    "model4.add(BatchNormalization())\n",
    "model4.add(Activation('relu'))\n",
    "model4.add(MaxPooling3D(pool_size=(2,2,2)))\n",
    "\n",
    "model4.add(Conv3D(64, kernel_size=(3,3,3), padding='same'))\n",
    "model4.add(BatchNormalization())\n",
    "model4.add(Activation('relu'))\n",
    "model4.add(MaxPooling3D(pool_size=(2,2,2)))\n",
    "\n",
    "model4.add(Conv3D(128, kernel_size=(3,3,3), padding='same'))\n",
    "model4.add(BatchNormalization())\n",
    "model4.add(Activation('relu'))\n",
    "\n",
    "model4.add(Flatten())\n",
    "\n",
    "model4.add(Dense(128, activation='relu'))\n",
    "model4.add(BatchNormalization())\n",
    "model4.add(Dropout(0.25))\n",
    "\n",
    "model4.add(Dense(64, activation='relu'))\n",
    "model4.add(BatchNormalization())\n",
    "model4.add(Dropout(0.25))\n",
    "\n",
    "#softmax layer\n",
    "model4.add(Dense(5, activation='softmax'))"
   ]
  },
  {
   "cell_type": "code",
   "execution_count": 34,
   "metadata": {},
   "outputs": [
    {
     "name": "stdout",
     "output_type": "stream",
     "text": [
      "Model: \"sequential_4\"\n",
      "_________________________________________________________________\n",
      " Layer (type)                Output Shape              Param #   \n",
      "=================================================================\n",
      " conv3d_15 (Conv3D)          (None, 10, 160, 160, 32)  2624      \n",
      "                                                                 \n",
      " batch_normalization_19 (Bat  (None, 10, 160, 160, 32)  128      \n",
      " chNormalization)                                                \n",
      "                                                                 \n",
      " activation_15 (Activation)  (None, 10, 160, 160, 32)  0         \n",
      "                                                                 \n",
      " max_pooling3d_12 (MaxPoolin  (None, 5, 80, 80, 32)    0         \n",
      " g3D)                                                            \n",
      "                                                                 \n",
      " conv3d_16 (Conv3D)          (None, 5, 80, 80, 32)     27680     \n",
      "                                                                 \n",
      " batch_normalization_20 (Bat  (None, 5, 80, 80, 32)    128       \n",
      " chNormalization)                                                \n",
      "                                                                 \n",
      " activation_16 (Activation)  (None, 5, 80, 80, 32)     0         \n",
      "                                                                 \n",
      " max_pooling3d_13 (MaxPoolin  (None, 2, 40, 40, 32)    0         \n",
      " g3D)                                                            \n",
      "                                                                 \n",
      " conv3d_17 (Conv3D)          (None, 2, 40, 40, 64)     55360     \n",
      "                                                                 \n",
      " batch_normalization_21 (Bat  (None, 2, 40, 40, 64)    256       \n",
      " chNormalization)                                                \n",
      "                                                                 \n",
      " activation_17 (Activation)  (None, 2, 40, 40, 64)     0         \n",
      "                                                                 \n",
      " max_pooling3d_14 (MaxPoolin  (None, 1, 20, 20, 64)    0         \n",
      " g3D)                                                            \n",
      "                                                                 \n",
      " conv3d_18 (Conv3D)          (None, 1, 20, 20, 128)    221312    \n",
      "                                                                 \n",
      " batch_normalization_22 (Bat  (None, 1, 20, 20, 128)   512       \n",
      " chNormalization)                                                \n",
      "                                                                 \n",
      " activation_18 (Activation)  (None, 1, 20, 20, 128)    0         \n",
      "                                                                 \n",
      " flatten_4 (Flatten)         (None, 51200)             0         \n",
      "                                                                 \n",
      " dense_12 (Dense)            (None, 128)               6553728   \n",
      "                                                                 \n",
      " batch_normalization_23 (Bat  (None, 128)              512       \n",
      " chNormalization)                                                \n",
      "                                                                 \n",
      " dropout_8 (Dropout)         (None, 128)               0         \n",
      "                                                                 \n",
      " dense_13 (Dense)            (None, 64)                8256      \n",
      "                                                                 \n",
      " batch_normalization_24 (Bat  (None, 64)               256       \n",
      " chNormalization)                                                \n",
      "                                                                 \n",
      " dropout_9 (Dropout)         (None, 64)                0         \n",
      "                                                                 \n",
      " dense_14 (Dense)            (None, 5)                 325       \n",
      "                                                                 \n",
      "=================================================================\n",
      "Total params: 6,871,077\n",
      "Trainable params: 6,870,181\n",
      "Non-trainable params: 896\n",
      "_________________________________________________________________\n",
      "None\n"
     ]
    }
   ],
   "source": [
    "optimiser = optimizers.Adam()\n",
    "model4.compile(optimizer=optimiser, loss='categorical_crossentropy', metrics=['categorical_accuracy'])\n",
    "print (model4.summary())"
   ]
  },
  {
   "cell_type": "code",
   "execution_count": 35,
   "metadata": {},
   "outputs": [],
   "source": [
    "batch_size = 20\n",
    "train_generator = generator(10,train_path, train_doc, batch_size,(160,160))\n",
    "val_generator = generator(10,val_path, val_doc, batch_size,(160,160))"
   ]
  },
  {
   "cell_type": "code",
   "execution_count": 36,
   "metadata": {},
   "outputs": [
    {
     "name": "stdout",
     "output_type": "stream",
     "text": [
      "WARNING:tensorflow:`period` argument is deprecated. Please use `save_freq` to specify the frequency in number of batches seen.\n"
     ]
    }
   ],
   "source": [
    "model_name = 'model_4_init' + '_' + str(curr_dt_time).replace(' ','').replace(':','_') + '/'\n",
    "    \n",
    "if not os.path.exists(model_name):\n",
    "    os.mkdir(model_name)\n",
    "        \n",
    "filepath = model_name + 'model-{epoch:05d}-{loss:.5f}-{categorical_accuracy:.5f}-{val_loss:.5f}-{val_categorical_accuracy:.5f}.h5'\n",
    "\n",
    "checkpoint = ModelCheckpoint(filepath, monitor='val_loss', verbose=1, save_best_only=False, save_weights_only=False, mode='auto', period=1)\n",
    "\n",
    "LR = ReduceLROnPlateau(monitor='val_loss', factor=0.5, patience=2, cooldown=1, verbose=1) # write the REducelronplateau code here\n",
    "callbacks_list = [checkpoint, LR]"
   ]
  },
  {
   "cell_type": "markdown",
   "metadata": {},
   "source": [
    "The `steps_per_epoch` and `validation_steps` are used by `fit_generator` to decide the number of next() calls it need to make."
   ]
  },
  {
   "cell_type": "code",
   "execution_count": 37,
   "metadata": {},
   "outputs": [],
   "source": [
    "if (num_train_sequences%batch_size) == 0:\n",
    "    steps_per_epoch = int(num_train_sequences/batch_size)\n",
    "else:\n",
    "    steps_per_epoch = (num_train_sequences//batch_size) + 1\n",
    "\n",
    "if (num_val_sequences%batch_size) == 0:\n",
    "    validation_steps = int(num_val_sequences/batch_size)\n",
    "else:\n",
    "    validation_steps = (num_val_sequences//batch_size) + 1"
   ]
  },
  {
   "cell_type": "code",
   "execution_count": 38,
   "metadata": {},
   "outputs": [
    {
     "name": "stdout",
     "output_type": "stream",
     "text": [
      "Source path =  Project_data/train ; batch size = 20\n",
      "Epoch 1/30\n",
      "34/34 [==============================] - ETA: 0s - loss: 1.5661 - categorical_accuracy: 0.4397Source path =  Project_data/val ; batch size = 20\n",
      "\n",
      "Epoch 1: saving model to model_4_init_2024-05-0704_06_02.598057\\model-00001-1.56614-0.43971-1.61203-0.30000.h5\n",
      "34/34 [==============================] - 169s 5s/step - loss: 1.5661 - categorical_accuracy: 0.4397 - val_loss: 1.6120 - val_categorical_accuracy: 0.3000 - lr: 0.0010\n",
      "Epoch 2/30\n",
      "34/34 [==============================] - ETA: 0s - loss: 1.0236 - categorical_accuracy: 0.6162\n",
      "Epoch 2: saving model to model_4_init_2024-05-0704_06_02.598057\\model-00002-1.02362-0.61618-2.36397-0.19000.h5\n",
      "34/34 [==============================] - 168s 5s/step - loss: 1.0236 - categorical_accuracy: 0.6162 - val_loss: 2.3640 - val_categorical_accuracy: 0.1900 - lr: 0.0010\n",
      "Epoch 3/30\n",
      "34/34 [==============================] - ETA: 0s - loss: 0.6500 - categorical_accuracy: 0.7500\n",
      "Epoch 3: saving model to model_4_init_2024-05-0704_06_02.598057\\model-00003-0.65005-0.75000-2.79299-0.25000.h5\n",
      "\n",
      "Epoch 3: ReduceLROnPlateau reducing learning rate to 0.0005000000237487257.\n",
      "34/34 [==============================] - 162s 5s/step - loss: 0.6500 - categorical_accuracy: 0.7500 - val_loss: 2.7930 - val_categorical_accuracy: 0.2500 - lr: 0.0010\n",
      "Epoch 4/30\n",
      "34/34 [==============================] - ETA: 0s - loss: 0.4533 - categorical_accuracy: 0.8471\n",
      "Epoch 4: saving model to model_4_init_2024-05-0704_06_02.598057\\model-00004-0.45331-0.84706-3.48063-0.22000.h5\n",
      "34/34 [==============================] - 161s 5s/step - loss: 0.4533 - categorical_accuracy: 0.8471 - val_loss: 3.4806 - val_categorical_accuracy: 0.2200 - lr: 5.0000e-04\n",
      "Epoch 5/30\n",
      "34/34 [==============================] - ETA: 0s - loss: 0.3167 - categorical_accuracy: 0.8941\n",
      "Epoch 5: saving model to model_4_init_2024-05-0704_06_02.598057\\model-00005-0.31670-0.89412-4.69738-0.19000.h5\n",
      "\n",
      "Epoch 5: ReduceLROnPlateau reducing learning rate to 0.0002500000118743628.\n",
      "34/34 [==============================] - 162s 5s/step - loss: 0.3167 - categorical_accuracy: 0.8941 - val_loss: 4.6974 - val_categorical_accuracy: 0.1900 - lr: 5.0000e-04\n",
      "Epoch 6/30\n",
      "34/34 [==============================] - ETA: 0s - loss: 0.2269 - categorical_accuracy: 0.9235\n",
      "Epoch 6: saving model to model_4_init_2024-05-0704_06_02.598057\\model-00006-0.22687-0.92353-4.83174-0.21000.h5\n",
      "34/34 [==============================] - 164s 5s/step - loss: 0.2269 - categorical_accuracy: 0.9235 - val_loss: 4.8317 - val_categorical_accuracy: 0.2100 - lr: 2.5000e-04\n",
      "Epoch 7/30\n",
      "34/34 [==============================] - ETA: 0s - loss: 0.1915 - categorical_accuracy: 0.9456\n",
      "Epoch 7: saving model to model_4_init_2024-05-0704_06_02.598057\\model-00007-0.19153-0.94559-4.48271-0.22000.h5\n",
      "\n",
      "Epoch 7: ReduceLROnPlateau reducing learning rate to 0.0001250000059371814.\n",
      "34/34 [==============================] - 160s 5s/step - loss: 0.1915 - categorical_accuracy: 0.9456 - val_loss: 4.4827 - val_categorical_accuracy: 0.2200 - lr: 2.5000e-04\n",
      "Epoch 8/30\n",
      "34/34 [==============================] - ETA: 0s - loss: 0.1541 - categorical_accuracy: 0.9588\n",
      "Epoch 8: saving model to model_4_init_2024-05-0704_06_02.598057\\model-00008-0.15410-0.95882-4.74828-0.21000.h5\n",
      "34/34 [==============================] - 162s 5s/step - loss: 0.1541 - categorical_accuracy: 0.9588 - val_loss: 4.7483 - val_categorical_accuracy: 0.2100 - lr: 1.2500e-04\n",
      "Epoch 9/30\n",
      "34/34 [==============================] - ETA: 0s - loss: 0.1586 - categorical_accuracy: 0.9691\n",
      "Epoch 9: saving model to model_4_init_2024-05-0704_06_02.598057\\model-00009-0.15861-0.96912-4.39470-0.21000.h5\n",
      "\n",
      "Epoch 9: ReduceLROnPlateau reducing learning rate to 6.25000029685907e-05.\n",
      "34/34 [==============================] - 160s 5s/step - loss: 0.1586 - categorical_accuracy: 0.9691 - val_loss: 4.3947 - val_categorical_accuracy: 0.2100 - lr: 1.2500e-04\n",
      "Epoch 10/30\n",
      "34/34 [==============================] - ETA: 0s - loss: 0.1287 - categorical_accuracy: 0.9735\n",
      "Epoch 10: saving model to model_4_init_2024-05-0704_06_02.598057\\model-00010-0.12866-0.97353-4.25289-0.23000.h5\n",
      "34/34 [==============================] - 170s 5s/step - loss: 0.1287 - categorical_accuracy: 0.9735 - val_loss: 4.2529 - val_categorical_accuracy: 0.2300 - lr: 6.2500e-05\n",
      "Epoch 11/30\n",
      "34/34 [==============================] - ETA: 0s - loss: 0.1145 - categorical_accuracy: 0.9809\n",
      "Epoch 11: saving model to model_4_init_2024-05-0704_06_02.598057\\model-00011-0.11452-0.98088-3.72458-0.28000.h5\n",
      "\n",
      "Epoch 11: ReduceLROnPlateau reducing learning rate to 3.125000148429535e-05.\n",
      "34/34 [==============================] - 172s 5s/step - loss: 0.1145 - categorical_accuracy: 0.9809 - val_loss: 3.7246 - val_categorical_accuracy: 0.2800 - lr: 6.2500e-05\n",
      "Epoch 12/30\n",
      "34/34 [==============================] - ETA: 0s - loss: 0.1090 - categorical_accuracy: 0.9750\n",
      "Epoch 12: saving model to model_4_init_2024-05-0704_06_02.598057\\model-00012-0.10895-0.97500-3.04001-0.28000.h5\n",
      "34/34 [==============================] - 168s 5s/step - loss: 0.1090 - categorical_accuracy: 0.9750 - val_loss: 3.0400 - val_categorical_accuracy: 0.2800 - lr: 3.1250e-05\n",
      "Epoch 13/30\n",
      "34/34 [==============================] - ETA: 0s - loss: 0.0889 - categorical_accuracy: 0.9926\n",
      "Epoch 13: saving model to model_4_init_2024-05-0704_06_02.598057\\model-00013-0.08888-0.99265-2.36706-0.36000.h5\n",
      "\n",
      "Epoch 13: ReduceLROnPlateau reducing learning rate to 1.5625000742147677e-05.\n",
      "34/34 [==============================] - 169s 5s/step - loss: 0.0889 - categorical_accuracy: 0.9926 - val_loss: 2.3671 - val_categorical_accuracy: 0.3600 - lr: 3.1250e-05\n",
      "Epoch 14/30\n",
      "34/34 [==============================] - ETA: 0s - loss: 0.1181 - categorical_accuracy: 0.9735\n",
      "Epoch 14: saving model to model_4_init_2024-05-0704_06_02.598057\\model-00014-0.11811-0.97353-1.92726-0.40000.h5\n",
      "34/34 [==============================] - 162s 5s/step - loss: 0.1181 - categorical_accuracy: 0.9735 - val_loss: 1.9273 - val_categorical_accuracy: 0.4000 - lr: 1.5625e-05\n",
      "Epoch 15/30\n",
      "34/34 [==============================] - ETA: 0s - loss: 0.1009 - categorical_accuracy: 0.9765\n",
      "Epoch 15: saving model to model_4_init_2024-05-0704_06_02.598057\\model-00015-0.10094-0.97647-1.40013-0.52000.h5\n",
      "34/34 [==============================] - 169s 5s/step - loss: 0.1009 - categorical_accuracy: 0.9765 - val_loss: 1.4001 - val_categorical_accuracy: 0.5200 - lr: 1.5625e-05\n",
      "Epoch 16/30\n",
      "34/34 [==============================] - ETA: 0s - loss: 0.0883 - categorical_accuracy: 0.9765\n",
      "Epoch 16: saving model to model_4_init_2024-05-0704_06_02.598057\\model-00016-0.08833-0.97647-0.92786-0.67000.h5\n",
      "34/34 [==============================] - 166s 5s/step - loss: 0.0883 - categorical_accuracy: 0.9765 - val_loss: 0.9279 - val_categorical_accuracy: 0.6700 - lr: 1.5625e-05\n",
      "Epoch 17/30\n",
      "34/34 [==============================] - ETA: 0s - loss: 0.0842 - categorical_accuracy: 0.9897\n",
      "Epoch 17: saving model to model_4_init_2024-05-0704_06_02.598057\\model-00017-0.08421-0.98971-0.83159-0.74000.h5\n",
      "34/34 [==============================] - 162s 5s/step - loss: 0.0842 - categorical_accuracy: 0.9897 - val_loss: 0.8316 - val_categorical_accuracy: 0.7400 - lr: 1.5625e-05\n",
      "Epoch 18/30\n",
      "34/34 [==============================] - ETA: 0s - loss: 0.0885 - categorical_accuracy: 0.9868\n",
      "Epoch 18: saving model to model_4_init_2024-05-0704_06_02.598057\\model-00018-0.08845-0.98676-0.48085-0.87000.h5\n",
      "34/34 [==============================] - 160s 5s/step - loss: 0.0885 - categorical_accuracy: 0.9868 - val_loss: 0.4809 - val_categorical_accuracy: 0.8700 - lr: 1.5625e-05\n",
      "Epoch 19/30\n",
      "34/34 [==============================] - ETA: 0s - loss: 0.0794 - categorical_accuracy: 0.9868\n",
      "Epoch 19: saving model to model_4_init_2024-05-0704_06_02.598057\\model-00019-0.07944-0.98676-0.48415-0.82000.h5\n",
      "34/34 [==============================] - 163s 5s/step - loss: 0.0794 - categorical_accuracy: 0.9868 - val_loss: 0.4842 - val_categorical_accuracy: 0.8200 - lr: 1.5625e-05\n",
      "Epoch 20/30\n",
      "34/34 [==============================] - ETA: 0s - loss: 0.0853 - categorical_accuracy: 0.9824\n",
      "Epoch 20: saving model to model_4_init_2024-05-0704_06_02.598057\\model-00020-0.08526-0.98235-0.46923-0.83000.h5\n",
      "34/34 [==============================] - 161s 5s/step - loss: 0.0853 - categorical_accuracy: 0.9824 - val_loss: 0.4692 - val_categorical_accuracy: 0.8300 - lr: 1.5625e-05\n",
      "Epoch 21/30\n",
      "34/34 [==============================] - ETA: 0s - loss: 0.0877 - categorical_accuracy: 0.9809\n",
      "Epoch 21: saving model to model_4_init_2024-05-0704_06_02.598057\\model-00021-0.08774-0.98088-0.41115-0.84000.h5\n",
      "34/34 [==============================] - 166s 5s/step - loss: 0.0877 - categorical_accuracy: 0.9809 - val_loss: 0.4111 - val_categorical_accuracy: 0.8400 - lr: 1.5625e-05\n",
      "Epoch 22/30\n",
      "34/34 [==============================] - ETA: 0s - loss: 0.0896 - categorical_accuracy: 0.9838\n",
      "Epoch 22: saving model to model_4_init_2024-05-0704_06_02.598057\\model-00022-0.08959-0.98382-0.37630-0.85000.h5\n",
      "34/34 [==============================] - 164s 5s/step - loss: 0.0896 - categorical_accuracy: 0.9838 - val_loss: 0.3763 - val_categorical_accuracy: 0.8500 - lr: 1.5625e-05\n",
      "Epoch 23/30\n",
      "34/34 [==============================] - ETA: 0s - loss: 0.0880 - categorical_accuracy: 0.9853\n",
      "Epoch 23: saving model to model_4_init_2024-05-0704_06_02.598057\\model-00023-0.08799-0.98529-0.26634-0.87000.h5\n",
      "34/34 [==============================] - 166s 5s/step - loss: 0.0880 - categorical_accuracy: 0.9853 - val_loss: 0.2663 - val_categorical_accuracy: 0.8700 - lr: 1.5625e-05\n",
      "Epoch 24/30\n",
      "34/34 [==============================] - ETA: 0s - loss: 0.0795 - categorical_accuracy: 0.9868\n",
      "Epoch 24: saving model to model_4_init_2024-05-0704_06_02.598057\\model-00024-0.07948-0.98676-0.36032-0.88000.h5\n",
      "34/34 [==============================] - 170s 5s/step - loss: 0.0795 - categorical_accuracy: 0.9868 - val_loss: 0.3603 - val_categorical_accuracy: 0.8800 - lr: 1.5625e-05\n",
      "Epoch 25/30\n",
      "34/34 [==============================] - ETA: 0s - loss: 0.0769 - categorical_accuracy: 0.9897\n",
      "Epoch 25: saving model to model_4_init_2024-05-0704_06_02.598057\\model-00025-0.07686-0.98971-0.35828-0.88000.h5\n",
      "\n",
      "Epoch 25: ReduceLROnPlateau reducing learning rate to 7.812500371073838e-06.\n",
      "34/34 [==============================] - 165s 5s/step - loss: 0.0769 - categorical_accuracy: 0.9897 - val_loss: 0.3583 - val_categorical_accuracy: 0.8800 - lr: 1.5625e-05\n",
      "Epoch 26/30\n",
      "34/34 [==============================] - ETA: 0s - loss: 0.0661 - categorical_accuracy: 0.9956\n",
      "Epoch 26: saving model to model_4_init_2024-05-0704_06_02.598057\\model-00026-0.06612-0.99559-0.33826-0.87000.h5\n",
      "34/34 [==============================] - 169s 5s/step - loss: 0.0661 - categorical_accuracy: 0.9956 - val_loss: 0.3383 - val_categorical_accuracy: 0.8700 - lr: 7.8125e-06\n",
      "Epoch 27/30\n",
      "34/34 [==============================] - ETA: 0s - loss: 0.0905 - categorical_accuracy: 0.9838\n",
      "Epoch 27: saving model to model_4_init_2024-05-0704_06_02.598057\\model-00027-0.09054-0.98382-0.37600-0.83000.h5\n",
      "\n",
      "Epoch 27: ReduceLROnPlateau reducing learning rate to 3.906250185536919e-06.\n",
      "34/34 [==============================] - 167s 5s/step - loss: 0.0905 - categorical_accuracy: 0.9838 - val_loss: 0.3760 - val_categorical_accuracy: 0.8300 - lr: 7.8125e-06\n",
      "Epoch 28/30\n",
      "34/34 [==============================] - ETA: 0s - loss: 0.0724 - categorical_accuracy: 0.9897\n",
      "Epoch 28: saving model to model_4_init_2024-05-0704_06_02.598057\\model-00028-0.07239-0.98971-0.37286-0.83000.h5\n",
      "34/34 [==============================] - 169s 5s/step - loss: 0.0724 - categorical_accuracy: 0.9897 - val_loss: 0.3729 - val_categorical_accuracy: 0.8300 - lr: 3.9063e-06\n",
      "Epoch 29/30\n",
      "34/34 [==============================] - ETA: 0s - loss: 0.0776 - categorical_accuracy: 0.9853\n",
      "Epoch 29: saving model to model_4_init_2024-05-0704_06_02.598057\\model-00029-0.07762-0.98529-0.34223-0.90000.h5\n",
      "\n",
      "Epoch 29: ReduceLROnPlateau reducing learning rate to 1.9531250927684596e-06.\n",
      "34/34 [==============================] - 163s 5s/step - loss: 0.0776 - categorical_accuracy: 0.9853 - val_loss: 0.3422 - val_categorical_accuracy: 0.9000 - lr: 3.9063e-06\n",
      "Epoch 30/30\n",
      "34/34 [==============================] - ETA: 0s - loss: 0.0683 - categorical_accuracy: 0.9926\n",
      "Epoch 30: saving model to model_4_init_2024-05-0704_06_02.598057\\model-00030-0.06825-0.99265-0.24405-0.89000.h5\n",
      "34/34 [==============================] - 167s 5s/step - loss: 0.0683 - categorical_accuracy: 0.9926 - val_loss: 0.2440 - val_categorical_accuracy: 0.8900 - lr: 1.9531e-06\n"
     ]
    }
   ],
   "source": [
    "history4 = model4.fit_generator(train_generator, steps_per_epoch=steps_per_epoch, epochs=30, verbose=1, \n",
    "                    callbacks=callbacks_list, validation_data=val_generator, \n",
    "                    validation_steps=validation_steps, class_weight=None, workers=1, initial_epoch=0)"
   ]
  },
  {
   "cell_type": "code",
   "execution_count": 44,
   "metadata": {},
   "outputs": [
    {
     "data": {
      "image/png": "[encoded data removed]",
      "text/plain": [
       "<Figure size 1000x300 with 2 Axes>"
      ]
     },
     "metadata": {},
     "output_type": "display_data"
    }
   ],
   "source": [
    "plot_acc(history4)"
   ]
  },
  {
   "cell_type": "markdown",
   "metadata": {},
   "source": [
    "**Not any significant improvement by increasing image size, hence continuing with model 3 and reducing trainable parameters**\n",
    "### Model5"
   ]
  },
  {
   "cell_type": "code",
   "execution_count": 47,
   "metadata": {},
   "outputs": [],
   "source": [
    "model5 = Sequential()\n",
    "\n",
    "model5.add(Conv3D(32, kernel_size=(3,3,3), input_shape=(10, 120, 120, 3), padding='same'))\n",
    "model5.add(BatchNormalization())\n",
    "model5.add(Activation('relu'))\n",
    "model5.add(MaxPooling3D(pool_size=(2,2,2)))\n",
    "\n",
    "model5.add(Conv3D(32, kernel_size=(3,3,3), padding='same'))\n",
    "model5.add(BatchNormalization())\n",
    "model5.add(Activation('relu'))\n",
    "model5.add(MaxPooling3D(pool_size=(2,2,2)))\n",
    "\n",
    "model5.add(Conv3D(64, kernel_size=(3,3,3), padding='same'))\n",
    "model5.add(BatchNormalization())\n",
    "model5.add(Activation('relu'))\n",
    "model5.add(MaxPooling3D(pool_size=(2,2,2)))\n",
    "\n",
    "model5.add(Conv3D(64, kernel_size=(3,3,3), padding='same'))\n",
    "model5.add(BatchNormalization())\n",
    "model5.add(Activation('relu'))\n",
    "\n",
    "model5.add(Flatten())\n",
    "\n",
    "model5.add(Dense(128, activation='relu'))\n",
    "model5.add(BatchNormalization())\n",
    "model5.add(Dropout(0.25))\n",
    "\n",
    "model5.add(Dense(64, activation='relu'))\n",
    "model5.add(BatchNormalization())\n",
    "model5.add(Dropout(0.25))\n",
    "\n",
    "#softmax layer\n",
    "model5.add(Dense(5, activation='softmax'))"
   ]
  },
  {
   "cell_type": "code",
   "execution_count": 48,
   "metadata": {},
   "outputs": [
    {
     "name": "stdout",
     "output_type": "stream",
     "text": [
      "Model: \"sequential_6\"\n",
      "_________________________________________________________________\n",
      " Layer (type)                Output Shape              Param #   \n",
      "=================================================================\n",
      " conv3d_23 (Conv3D)          (None, 10, 120, 120, 32)  2624      \n",
      "                                                                 \n",
      " batch_normalization_31 (Bat  (None, 10, 120, 120, 32)  128      \n",
      " chNormalization)                                                \n",
      "                                                                 \n",
      " activation_23 (Activation)  (None, 10, 120, 120, 32)  0         \n",
      "                                                                 \n",
      " max_pooling3d_18 (MaxPoolin  (None, 5, 60, 60, 32)    0         \n",
      " g3D)                                                            \n",
      "                                                                 \n",
      " conv3d_24 (Conv3D)          (None, 5, 60, 60, 32)     27680     \n",
      "                                                                 \n",
      " batch_normalization_32 (Bat  (None, 5, 60, 60, 32)    128       \n",
      " chNormalization)                                                \n",
      "                                                                 \n",
      " activation_24 (Activation)  (None, 5, 60, 60, 32)     0         \n",
      "                                                                 \n",
      " max_pooling3d_19 (MaxPoolin  (None, 2, 30, 30, 32)    0         \n",
      " g3D)                                                            \n",
      "                                                                 \n",
      " conv3d_25 (Conv3D)          (None, 2, 30, 30, 64)     55360     \n",
      "                                                                 \n",
      " batch_normalization_33 (Bat  (None, 2, 30, 30, 64)    256       \n",
      " chNormalization)                                                \n",
      "                                                                 \n",
      " activation_25 (Activation)  (None, 2, 30, 30, 64)     0         \n",
      "                                                                 \n",
      " max_pooling3d_20 (MaxPoolin  (None, 1, 15, 15, 64)    0         \n",
      " g3D)                                                            \n",
      "                                                                 \n",
      " conv3d_26 (Conv3D)          (None, 1, 15, 15, 64)     110656    \n",
      "                                                                 \n",
      " batch_normalization_34 (Bat  (None, 1, 15, 15, 64)    256       \n",
      " chNormalization)                                                \n",
      "                                                                 \n",
      " activation_26 (Activation)  (None, 1, 15, 15, 64)     0         \n",
      "                                                                 \n",
      " flatten_6 (Flatten)         (None, 14400)             0         \n",
      "                                                                 \n",
      " dense_18 (Dense)            (None, 128)               1843328   \n",
      "                                                                 \n",
      " batch_normalization_35 (Bat  (None, 128)              512       \n",
      " chNormalization)                                                \n",
      "                                                                 \n",
      " dropout_12 (Dropout)        (None, 128)               0         \n",
      "                                                                 \n",
      " dense_19 (Dense)            (None, 64)                8256      \n",
      "                                                                 \n",
      " batch_normalization_36 (Bat  (None, 64)               256       \n",
      " chNormalization)                                                \n",
      "                                                                 \n",
      " dropout_13 (Dropout)        (None, 64)                0         \n",
      "                                                                 \n",
      " dense_20 (Dense)            (None, 5)                 325       \n",
      "                                                                 \n",
      "=================================================================\n",
      "Total params: 2,049,765\n",
      "Trainable params: 2,048,997\n",
      "Non-trainable params: 768\n",
      "_________________________________________________________________\n",
      "None\n"
     ]
    }
   ],
   "source": [
    "optimiser = optimizers.Adam()\n",
    "model5.compile(optimizer=optimiser, loss='categorical_crossentropy', metrics=['categorical_accuracy'])\n",
    "print (model5.summary())"
   ]
  },
  {
   "cell_type": "code",
   "execution_count": 49,
   "metadata": {},
   "outputs": [],
   "source": [
    "batch_size = 20\n",
    "train_generator = generator(10,train_path, train_doc, batch_size,(120,120))\n",
    "val_generator = generator(10,val_path, val_doc, batch_size,(120,120))"
   ]
  },
  {
   "cell_type": "code",
   "execution_count": 50,
   "metadata": {},
   "outputs": [
    {
     "name": "stdout",
     "output_type": "stream",
     "text": [
      "WARNING:tensorflow:`period` argument is deprecated. Please use `save_freq` to specify the frequency in number of batches seen.\n"
     ]
    }
   ],
   "source": [
    "model_name = 'model_5_init' + '_' + str(curr_dt_time).replace(' ','').replace(':','_') + '/'\n",
    "    \n",
    "if not os.path.exists(model_name):\n",
    "    os.mkdir(model_name)\n",
    "        \n",
    "filepath = model_name + 'model-{epoch:05d}-{loss:.5f}-{categorical_accuracy:.5f}-{val_loss:.5f}-{val_categorical_accuracy:.5f}.h5'\n",
    "\n",
    "checkpoint = ModelCheckpoint(filepath, monitor='val_loss', verbose=1, save_best_only=False, save_weights_only=False, mode='auto', period=1)\n",
    "\n",
    "LR = ReduceLROnPlateau(monitor='val_loss', factor=0.5, patience=2, cooldown=1, verbose=1) # write the REducelronplateau code here\n",
    "callbacks_list = [checkpoint, LR]"
   ]
  },
  {
   "cell_type": "markdown",
   "metadata": {},
   "source": [
    "The `steps_per_epoch` and `validation_steps` are used by `fit_generator` to decide the number of next() calls it need to make."
   ]
  },
  {
   "cell_type": "code",
   "execution_count": 51,
   "metadata": {},
   "outputs": [],
   "source": [
    "if (num_train_sequences%batch_size) == 0:\n",
    "    steps_per_epoch = int(num_train_sequences/batch_size)\n",
    "else:\n",
    "    steps_per_epoch = (num_train_sequences//batch_size) + 1\n",
    "\n",
    "if (num_val_sequences%batch_size) == 0:\n",
    "    validation_steps = int(num_val_sequences/batch_size)\n",
    "else:\n",
    "    validation_steps = (num_val_sequences//batch_size) + 1"
   ]
  },
  {
   "cell_type": "code",
   "execution_count": 52,
   "metadata": {},
   "outputs": [
    {
     "name": "stdout",
     "output_type": "stream",
     "text": [
      "Source path =  Project_data/train ; batch size = 20\n",
      "Epoch 1/25\n",
      "34/34 [==============================] - ETA: 0s - loss: 1.4066 - categorical_accuracy: 0.4838Source path =  Project_data/val ; batch size = 20\n",
      "\n",
      "Epoch 1: saving model to model_5_init_2024-05-0704_06_02.598057\\model-00001-1.40656-0.48382-2.27224-0.28000.h5\n",
      "34/34 [==============================] - 95s 3s/step - loss: 1.4066 - categorical_accuracy: 0.4838 - val_loss: 2.2722 - val_categorical_accuracy: 0.2800 - lr: 0.0010\n",
      "Epoch 2/25\n",
      "34/34 [==============================] - ETA: 0s - loss: 0.7703 - categorical_accuracy: 0.6971\n",
      "Epoch 2: saving model to model_5_init_2024-05-0704_06_02.598057\\model-00002-0.77032-0.69706-2.63190-0.19000.h5\n",
      "34/34 [==============================] - 81s 2s/step - loss: 0.7703 - categorical_accuracy: 0.6971 - val_loss: 2.6319 - val_categorical_accuracy: 0.1900 - lr: 0.0010\n",
      "Epoch 3/25\n",
      "34/34 [==============================] - ETA: 0s - loss: 0.4930 - categorical_accuracy: 0.8250\n",
      "Epoch 3: saving model to model_5_init_2024-05-0704_06_02.598057\\model-00003-0.49296-0.82500-7.41544-0.19000.h5\n",
      "\n",
      "Epoch 3: ReduceLROnPlateau reducing learning rate to 0.0005000000237487257.\n",
      "34/34 [==============================] - 91s 3s/step - loss: 0.4930 - categorical_accuracy: 0.8250 - val_loss: 7.4154 - val_categorical_accuracy: 0.1900 - lr: 0.0010\n",
      "Epoch 4/25\n",
      "34/34 [==============================] - ETA: 0s - loss: 0.3353 - categorical_accuracy: 0.8779\n",
      "Epoch 4: saving model to model_5_init_2024-05-0704_06_02.598057\\model-00004-0.33533-0.87794-6.77834-0.21000.h5\n",
      "34/34 [==============================] - 93s 3s/step - loss: 0.3353 - categorical_accuracy: 0.8779 - val_loss: 6.7783 - val_categorical_accuracy: 0.2100 - lr: 5.0000e-04\n",
      "Epoch 5/25\n",
      "34/34 [==============================] - ETA: 0s - loss: 0.2555 - categorical_accuracy: 0.9103\n",
      "Epoch 5: saving model to model_5_init_2024-05-0704_06_02.598057\\model-00005-0.25549-0.91029-7.34984-0.20000.h5\n",
      "\n",
      "Epoch 5: ReduceLROnPlateau reducing learning rate to 0.0002500000118743628.\n",
      "34/34 [==============================] - 89s 3s/step - loss: 0.2555 - categorical_accuracy: 0.9103 - val_loss: 7.3498 - val_categorical_accuracy: 0.2000 - lr: 5.0000e-04\n",
      "Epoch 6/25\n",
      "34/34 [==============================] - ETA: 0s - loss: 0.2246 - categorical_accuracy: 0.9221\n",
      "Epoch 6: saving model to model_5_init_2024-05-0704_06_02.598057\\model-00006-0.22465-0.92206-6.89179-0.21000.h5\n",
      "34/34 [==============================] - 89s 3s/step - loss: 0.2246 - categorical_accuracy: 0.9221 - val_loss: 6.8918 - val_categorical_accuracy: 0.2100 - lr: 2.5000e-04\n",
      "Epoch 7/25\n",
      "34/34 [==============================] - ETA: 0s - loss: 0.1820 - categorical_accuracy: 0.9500\n",
      "Epoch 7: saving model to model_5_init_2024-05-0704_06_02.598057\\model-00007-0.18203-0.95000-6.83989-0.21000.h5\n",
      "\n",
      "Epoch 7: ReduceLROnPlateau reducing learning rate to 0.0001250000059371814.\n",
      "34/34 [==============================] - 91s 3s/step - loss: 0.1820 - categorical_accuracy: 0.9500 - val_loss: 6.8399 - val_categorical_accuracy: 0.2100 - lr: 2.5000e-04\n",
      "Epoch 8/25\n",
      "34/34 [==============================] - ETA: 0s - loss: 0.1745 - categorical_accuracy: 0.9574\n",
      "Epoch 8: saving model to model_5_init_2024-05-0704_06_02.598057\\model-00008-0.17451-0.95735-6.48276-0.20000.h5\n",
      "34/34 [==============================] - 83s 2s/step - loss: 0.1745 - categorical_accuracy: 0.9574 - val_loss: 6.4828 - val_categorical_accuracy: 0.2000 - lr: 1.2500e-04\n",
      "Epoch 9/25\n",
      "34/34 [==============================] - ETA: 0s - loss: 0.1189 - categorical_accuracy: 0.9647\n",
      "Epoch 9: saving model to model_5_init_2024-05-0704_06_02.598057\\model-00009-0.11893-0.96471-6.37083-0.18000.h5\n",
      "\n",
      "Epoch 9: ReduceLROnPlateau reducing learning rate to 6.25000029685907e-05.\n",
      "34/34 [==============================] - 83s 2s/step - loss: 0.1189 - categorical_accuracy: 0.9647 - val_loss: 6.3708 - val_categorical_accuracy: 0.1800 - lr: 1.2500e-04\n",
      "Epoch 10/25\n",
      "34/34 [==============================] - ETA: 0s - loss: 0.1136 - categorical_accuracy: 0.9691\n",
      "Epoch 10: saving model to model_5_init_2024-05-0704_06_02.598057\\model-00010-0.11357-0.96912-4.76267-0.23000.h5\n",
      "34/34 [==============================] - 87s 3s/step - loss: 0.1136 - categorical_accuracy: 0.9691 - val_loss: 4.7627 - val_categorical_accuracy: 0.2300 - lr: 6.2500e-05\n",
      "Epoch 11/25\n",
      "34/34 [==============================] - ETA: 0s - loss: 0.0968 - categorical_accuracy: 0.9809\n",
      "Epoch 11: saving model to model_5_init_2024-05-0704_06_02.598057\\model-00011-0.09684-0.98088-4.25937-0.23000.h5\n",
      "\n",
      "Epoch 11: ReduceLROnPlateau reducing learning rate to 3.125000148429535e-05.\n",
      "34/34 [==============================] - 90s 3s/step - loss: 0.0968 - categorical_accuracy: 0.9809 - val_loss: 4.2594 - val_categorical_accuracy: 0.2300 - lr: 6.2500e-05\n",
      "Epoch 12/25\n",
      "34/34 [==============================] - ETA: 0s - loss: 0.1091 - categorical_accuracy: 0.9779\n",
      "Epoch 12: saving model to model_5_init_2024-05-0704_06_02.598057\\model-00012-0.10908-0.97794-3.14232-0.27000.h5\n",
      "34/34 [==============================] - 85s 3s/step - loss: 0.1091 - categorical_accuracy: 0.9779 - val_loss: 3.1423 - val_categorical_accuracy: 0.2700 - lr: 3.1250e-05\n",
      "Epoch 13/25\n",
      "34/34 [==============================] - ETA: 0s - loss: 0.1005 - categorical_accuracy: 0.9809\n",
      "Epoch 13: saving model to model_5_init_2024-05-0704_06_02.598057\\model-00013-0.10047-0.98088-2.39447-0.39000.h5\n",
      "\n",
      "Epoch 13: ReduceLROnPlateau reducing learning rate to 1.5625000742147677e-05.\n",
      "34/34 [==============================] - 83s 2s/step - loss: 0.1005 - categorical_accuracy: 0.9809 - val_loss: 2.3945 - val_categorical_accuracy: 0.3900 - lr: 3.1250e-05\n",
      "Epoch 14/25\n",
      "34/34 [==============================] - ETA: 0s - loss: 0.0969 - categorical_accuracy: 0.9721\n",
      "Epoch 14: saving model to model_5_init_2024-05-0704_06_02.598057\\model-00014-0.09690-0.97206-1.19995-0.60000.h5\n",
      "34/34 [==============================] - 89s 3s/step - loss: 0.0969 - categorical_accuracy: 0.9721 - val_loss: 1.1999 - val_categorical_accuracy: 0.6000 - lr: 1.5625e-05\n",
      "Epoch 15/25\n",
      "34/34 [==============================] - ETA: 0s - loss: 0.0970 - categorical_accuracy: 0.9750\n",
      "Epoch 15: saving model to model_5_init_2024-05-0704_06_02.598057\\model-00015-0.09701-0.97500-1.21988-0.63000.h5\n",
      "34/34 [==============================] - 85s 3s/step - loss: 0.0970 - categorical_accuracy: 0.9750 - val_loss: 1.2199 - val_categorical_accuracy: 0.6300 - lr: 1.5625e-05\n",
      "Epoch 16/25\n",
      "34/34 [==============================] - ETA: 0s - loss: 0.1002 - categorical_accuracy: 0.9794\n",
      "Epoch 16: saving model to model_5_init_2024-05-0704_06_02.598057\\model-00016-0.10018-0.97941-0.70321-0.75000.h5\n",
      "34/34 [==============================] - 83s 2s/step - loss: 0.1002 - categorical_accuracy: 0.9794 - val_loss: 0.7032 - val_categorical_accuracy: 0.7500 - lr: 1.5625e-05\n",
      "Epoch 17/25\n",
      "34/34 [==============================] - ETA: 0s - loss: 0.0777 - categorical_accuracy: 0.9912\n",
      "Epoch 17: saving model to model_5_init_2024-05-0704_06_02.598057\\model-00017-0.07766-0.99118-0.57090-0.74000.h5\n",
      "34/34 [==============================] - 87s 3s/step - loss: 0.0777 - categorical_accuracy: 0.9912 - val_loss: 0.5709 - val_categorical_accuracy: 0.7400 - lr: 1.5625e-05\n",
      "Epoch 18/25\n",
      "34/34 [==============================] - ETA: 0s - loss: 0.0806 - categorical_accuracy: 0.9882\n",
      "Epoch 18: saving model to model_5_init_2024-05-0704_06_02.598057\\model-00018-0.08061-0.98824-0.37530-0.84000.h5\n",
      "34/34 [==============================] - 86s 3s/step - loss: 0.0806 - categorical_accuracy: 0.9882 - val_loss: 0.3753 - val_categorical_accuracy: 0.8400 - lr: 1.5625e-05\n",
      "Epoch 19/25\n",
      "34/34 [==============================] - ETA: 0s - loss: 0.0953 - categorical_accuracy: 0.9794\n",
      "Epoch 19: saving model to model_5_init_2024-05-0704_06_02.598057\\model-00019-0.09532-0.97941-0.29650-0.90000.h5\n",
      "34/34 [==============================] - 80s 2s/step - loss: 0.0953 - categorical_accuracy: 0.9794 - val_loss: 0.2965 - val_categorical_accuracy: 0.9000 - lr: 1.5625e-05\n",
      "Epoch 20/25\n",
      "34/34 [==============================] - ETA: 0s - loss: 0.0863 - categorical_accuracy: 0.9838\n",
      "Epoch 20: saving model to model_5_init_2024-05-0704_06_02.598057\\model-00020-0.08629-0.98382-0.28008-0.88000.h5\n",
      "34/34 [==============================] - 89s 3s/step - loss: 0.0863 - categorical_accuracy: 0.9838 - val_loss: 0.2801 - val_categorical_accuracy: 0.8800 - lr: 1.5625e-05\n",
      "Epoch 21/25\n",
      "34/34 [==============================] - ETA: 0s - loss: 0.0772 - categorical_accuracy: 0.9868\n",
      "Epoch 21: saving model to model_5_init_2024-05-0704_06_02.598057\\model-00021-0.07722-0.98676-0.24470-0.92000.h5\n",
      "34/34 [==============================] - 84s 2s/step - loss: 0.0772 - categorical_accuracy: 0.9868 - val_loss: 0.2447 - val_categorical_accuracy: 0.9200 - lr: 1.5625e-05\n",
      "Epoch 22/25\n",
      "34/34 [==============================] - ETA: 0s - loss: 0.0802 - categorical_accuracy: 0.9853\n",
      "Epoch 22: saving model to model_5_init_2024-05-0704_06_02.598057\\model-00022-0.08017-0.98529-0.26546-0.91000.h5\n",
      "34/34 [==============================] - 90s 3s/step - loss: 0.0802 - categorical_accuracy: 0.9853 - val_loss: 0.2655 - val_categorical_accuracy: 0.9100 - lr: 1.5625e-05\n",
      "Epoch 23/25\n",
      "34/34 [==============================] - ETA: 0s - loss: 0.0859 - categorical_accuracy: 0.9838\n",
      "Epoch 23: saving model to model_5_init_2024-05-0704_06_02.598057\\model-00023-0.08589-0.98382-0.14280-0.97000.h5\n",
      "34/34 [==============================] - 87s 3s/step - loss: 0.0859 - categorical_accuracy: 0.9838 - val_loss: 0.1428 - val_categorical_accuracy: 0.9700 - lr: 1.5625e-05\n",
      "Epoch 24/25\n",
      "34/34 [==============================] - ETA: 0s - loss: 0.0875 - categorical_accuracy: 0.9868\n",
      "Epoch 24: saving model to model_5_init_2024-05-0704_06_02.598057\\model-00024-0.08754-0.98676-0.23336-0.91000.h5\n",
      "34/34 [==============================] - 85s 3s/step - loss: 0.0875 - categorical_accuracy: 0.9868 - val_loss: 0.2334 - val_categorical_accuracy: 0.9100 - lr: 1.5625e-05\n",
      "Epoch 25/25\n",
      "34/34 [==============================] - ETA: 0s - loss: 0.0978 - categorical_accuracy: 0.9765\n",
      "Epoch 25: saving model to model_5_init_2024-05-0704_06_02.598057\\model-00025-0.09784-0.97647-0.21744-0.94000.h5\n",
      "\n",
      "Epoch 25: ReduceLROnPlateau reducing learning rate to 7.812500371073838e-06.\n",
      "34/34 [==============================] - 92s 3s/step - loss: 0.0978 - categorical_accuracy: 0.9765 - val_loss: 0.2174 - val_categorical_accuracy: 0.9400 - lr: 1.5625e-05\n"
     ]
    }
   ],
   "source": [
    "history5 = model5.fit_generator(train_generator, steps_per_epoch=steps_per_epoch, epochs=25, verbose=1, \n",
    "                    callbacks=callbacks_list, validation_data=val_generator, \n",
    "                    validation_steps=validation_steps, class_weight=None, workers=1, initial_epoch=0)"
   ]
  },
  {
   "cell_type": "code",
   "execution_count": 53,
   "metadata": {},
   "outputs": [
    {
     "data": {
      "image/png": "[encoded data removed]",
      "text/plain": [
       "<Figure size 1000x300 with 2 Axes>"
      ]
     },
     "metadata": {},
     "output_type": "display_data"
    }
   ],
   "source": [
    "plot_acc(history5)"
   ]
  },
  {
   "cell_type": "markdown",
   "metadata": {},
   "source": [
    "**Comparing all model metrics**"
   ]
  },
  {
   "cell_type": "markdown",
   "metadata": {},
   "source": [
    "| Model Name  | Trainable Parameter | Training metrics                 | Validation metrics              |                                                                   \n",
    "| :---------- | -------------------: | --------------------------------: | ------------------------------: |\n",
    "| model       | 997,125             | loss: **0.3273**<br>accuracy: **0.8874** | loss: **1.1160**<br>accuracy: **0.62** |\n",
    "| model1      | 1,922,661           | loss: **0.6590**<br>accuracy: **0.7556** | loss: **2.9382**<br>accuracy: **0.27** |\n",
    "| model2      | 3,996,517           | loss: **0.1738**<br>accuracy: **0.9541** | loss: **0.4406**<br>accuracy: **0.85** |\n",
    "| model3      | 3,987,813           | loss: **0.0531**<br>accuracy: **0.9956** | loss: **0.3284**<br>accuracy: **0.91** |\n",
    "| model4      | 6,870,181           | loss: **0.0683**<br>accuracy: **0.9926** | loss: **0.2440**<br>accuracy: **0.89** |\n",
    "| model5      | 2,048,997           | loss: **0.0978**<br>accuracy: **0.9765** | loss: **0.2174**<br>accuracy: **0.94** |"
   ]
  },
  {
   "cell_type": "markdown",
   "metadata": {},
   "source": [
    "**Comparing validation loss and validation accuracy for all models it is found that**"
   ]
  },
  {
   "cell_type": "markdown",
   "metadata": {},
   "source": [
    "### Best performing model is \"model5\" with 0.9765 training accuracy and 0.94 validation accuracy"
   ]
  },
  {
   "cell_type": "markdown",
   "metadata": {},
   "source": [
    "**Testing a batch from validation dataset using MODEL5**"
   ]
  },
  {
   "cell_type": "code",
   "execution_count": 74,
   "metadata": {},
   "outputs": [],
   "source": [
    "img_idx = np.round(np.linspace(0,29,10)).astype(int)\n",
    "batch_data = np.zeros((20,len(img_idx),120,120,3))\n",
    "batch_labels = np.zeros((batch_size,5))\n",
    "t = np.random.permutation(val_doc)\n",
    "for folder in range(20): # iterate over the batch_size\n",
    "    imgs = os.listdir(val_path+'/'+ t[folder].split(';')[0])\n",
    "    for idx,item in enumerate(img_idx):\n",
    "        image = imread(val_path+'/'+ t[folder].strip().split(';')[0]+'/'+imgs[item]).astype(np.float32)\n",
    "        image = imresize(image,(120,120))\n",
    "        batch_data[folder,idx,:,:,0] = image[:,:,0]/255\n",
    "        batch_data[folder,idx,:,:,1] = image[:,:,1]/255  \n",
    "        batch_data[folder,idx,:,:,2] = image[:,:,2]/255\n",
    "    batch_labels[folder, int(t[folder].strip().split(';')[2])] = 1"
   ]
  },
  {
   "cell_type": "code",
   "execution_count": 75,
   "metadata": {},
   "outputs": [
    {
     "data": {
      "text/plain": [
       "(20, 10, 120, 120, 3)"
      ]
     },
     "execution_count": 75,
     "metadata": {},
     "output_type": "execute_result"
    }
   ],
   "source": [
    "batch_data.shape"
   ]
  },
  {
   "cell_type": "code",
   "execution_count": 76,
   "metadata": {},
   "outputs": [
    {
     "data": {
      "text/plain": [
       "(20, 5)"
      ]
     },
     "execution_count": 76,
     "metadata": {},
     "output_type": "execute_result"
    }
   ],
   "source": [
    "batch_labels.shape"
   ]
  },
  {
   "cell_type": "code",
   "execution_count": 80,
   "metadata": {},
   "outputs": [],
   "source": [
    "from keras.models import load_model\n",
    "model = load_model('model_5_init_2024-05-0704_06_02.598057\\model-00025-0.09784-0.97647-0.21744-0.94000.h5')"
   ]
  },
  {
   "cell_type": "code",
   "execution_count": 82,
   "metadata": {},
   "outputs": [
    {
     "name": "stdout",
     "output_type": "stream",
     "text": [
      "1/1 [==============================] - 0s 257ms/step\n"
     ]
    },
    {
     "data": {
      "text/plain": [
       "array([1, 0, 1, 2, 1, 3, 1, 1, 0, 2, 1, 1, 3, 1, 1, 1, 3, 0, 3, 1],\n",
       "      dtype=int64)"
      ]
     },
     "execution_count": 82,
     "metadata": {},
     "output_type": "execute_result"
    }
   ],
   "source": [
    "np.argmax(model.predict(batch_data[:,:,:,:,:]),axis=1)"
   ]
  },
  {
   "cell_type": "code",
   "execution_count": 86,
   "metadata": {},
   "outputs": [
    {
     "data": {
      "text/plain": [
       "array([1, 0, 1, 2, 1, 3, 1, 1, 0, 2, 1, 1, 3, 1, 1, 1, 3, 0, 3, 1],\n",
       "      dtype=int64)"
      ]
     },
     "execution_count": 86,
     "metadata": {},
     "output_type": "execute_result"
    }
   ],
   "source": [
    "np.argmax(batch_labels,axis=1)"
   ]
  }
 ],
 "metadata": {
  "kernelspec": {
   "display_name": "Python 3 (ipykernel)",
   "language": "python",
   "name": "python3"
  },
  "language_info": {
   "codemirror_mode": {
    "name": "ipython",
    "version": 3
   },
   "file_extension": ".py",
   "mimetype": "text/x-python",
   "name": "python",
   "nbconvert_exporter": "python",
   "pygments_lexer": "ipython3",
   "version": "3.10.13"
  }
 },
 "nbformat": 4,
 "nbformat_minor": 4
}
